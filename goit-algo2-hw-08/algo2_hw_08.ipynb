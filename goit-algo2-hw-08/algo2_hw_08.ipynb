{
  "nbformat": 4,
  "nbformat_minor": 0,
  "metadata": {
    "colab": {
      "provenance": []
    },
    "kernelspec": {
      "name": "python3",
      "display_name": "Python 3"
    },
    "language_info": {
      "name": "python"
    }
  },
  "cells": [
    {
      "cell_type": "markdown",
      "source": [
        "# Завдання 1. Реалізація Rate Limiter з використанням алгоритму Sliding Window для обмеження частоти повідомлень у чаті"
      ],
      "metadata": {
        "id": "HkDti1o-ZJUk"
      }
    },
    {
      "cell_type": "code",
      "source": [
        "import random\n",
        "from typing import Dict\n",
        "import time\n",
        "from collections import deque"
      ],
      "metadata": {
        "id": "tnCq1yBYcdeR"
      },
      "execution_count": 56,
      "outputs": []
    },
    {
      "cell_type": "code",
      "source": [
        "\n",
        "\n",
        "class SlidingWindowRateLimiter:\n",
        "    def __init__(self, window_size: int = 10, max_requests: int = 1):\n",
        "        self.window_size = window_size\n",
        "        self.max_requests = max_requests\n",
        "        self.history: Dict[str, deque] = {}\n",
        "\n",
        "    def _cleanup_window(self, user_id: str, current_time: float) -> None:\n",
        "        if user_id not in self.history:\n",
        "            self.history[user_id] = deque()\n",
        "\n",
        "        window = self.history[user_id]\n",
        "        while window and current_time - window[0] > self.window_size:\n",
        "            window.popleft()\n",
        "\n",
        "    def can_send_message(self, user_id: str) -> bool:\n",
        "        current_time = time.time()\n",
        "        self._cleanup_window(user_id, current_time)\n",
        "        return len(self.history[user_id]) < self.max_requests\n",
        "\n",
        "    def record_message(self, user_id: str) -> bool:\n",
        "        current_time = time.time()\n",
        "        self._cleanup_window(user_id, current_time)\n",
        "        if len(self.history[user_id]) < self.max_requests:\n",
        "            self.history[user_id].append(current_time)\n",
        "            return True\n",
        "        return False\n",
        "\n",
        "    def time_until_next_allowed(self, user_id: str) -> float:\n",
        "        current_time = time.time()\n",
        "        self._cleanup_window(user_id, current_time)\n",
        "        if len(self.history[user_id]) < self.max_requests:\n",
        "            return 0.0\n",
        "        oldest = self.history[user_id][0]\n",
        "        return max(0.0, self.window_size - (current_time - oldest))\n"
      ],
      "metadata": {
        "id": "ooqL1jYzcfRm"
      },
      "execution_count": 57,
      "outputs": []
    },
    {
      "cell_type": "code",
      "source": [
        "# Демонстрація роботи\n",
        "def test_rate_limiter():\n",
        "    # Створюємо rate limiter: вікно 10 секунд, 1 повідомлення\n",
        "    limiter = SlidingWindowRateLimiter(window_size=10, max_requests=1)\n",
        "\n",
        "    # Симулюємо потік повідомлень від користувачів (послідовні ID від 1 до 20)\n",
        "    print(\"\\n=== Симуляція потоку повідомлень ===\")\n",
        "    for message_id in range(1, 11):\n",
        "        # Симулюємо різних користувачів (ID від 1 до 5)\n",
        "        user_id = message_id % 5 + 1\n",
        "\n",
        "        result = limiter.record_message(str(user_id))\n",
        "        wait_time = limiter.time_until_next_allowed(str(user_id))\n",
        "\n",
        "        print(f\"Повідомлення {message_id:2d} | Користувач {user_id} | \"\n",
        "              f\"{'✓' if result else f'× (очікування {wait_time:.1f}с)'}\")\n",
        "\n",
        "        # Невелика затримка між повідомленнями для реалістичності\n",
        "        time.sleep(random.uniform(0.1, 1.0))\n",
        "\n",
        "    # Чекаємо, поки вікно очиститься\n",
        "    print(\"\\nОчікуємо 4 секунди...\")\n",
        "    time.sleep(4)\n",
        "\n",
        "    print(\"\\n=== Нова серія повідомлень після очікування ===\")\n",
        "    for message_id in range(11, 21):\n",
        "        user_id = message_id % 5 + 1\n",
        "        result = limiter.record_message(str(user_id))\n",
        "        wait_time = limiter.time_until_next_allowed(str(user_id))\n",
        "        print(f\"Повідомлення {message_id:2d} | Користувач {user_id} | \"\n",
        "              f\"{'✓' if result else f'× (очікування {wait_time:.1f}с)'}\")\n",
        "        time.sleep(random.uniform(0.1, 1.0))"
      ],
      "metadata": {
        "id": "xL4rQfzscuhW"
      },
      "execution_count": 58,
      "outputs": []
    },
    {
      "cell_type": "code",
      "source": [
        "test_rate_limiter()"
      ],
      "metadata": {
        "colab": {
          "base_uri": "https://localhost:8080/"
        },
        "id": "n0xTE0iscxvW",
        "outputId": "8f28fa5c-6778-4548-cc86-d1b3891431a2"
      },
      "execution_count": 59,
      "outputs": [
        {
          "output_type": "stream",
          "name": "stdout",
          "text": [
            "\n",
            "=== Симуляція потоку повідомлень ===\n",
            "Повідомлення  1 | Користувач 2 | ✓\n",
            "Повідомлення  2 | Користувач 3 | ✓\n",
            "Повідомлення  3 | Користувач 4 | ✓\n",
            "Повідомлення  4 | Користувач 5 | ✓\n",
            "Повідомлення  5 | Користувач 1 | ✓\n",
            "Повідомлення  6 | Користувач 2 | × (очікування 8.1с)\n",
            "Повідомлення  7 | Користувач 3 | × (очікування 7.9с)\n",
            "Повідомлення  8 | Користувач 4 | × (очікування 7.3с)\n",
            "Повідомлення  9 | Користувач 5 | × (очікування 7.1с)\n",
            "Повідомлення 10 | Користувач 1 | × (очікування 7.5с)\n",
            "\n",
            "Очікуємо 4 секунди...\n",
            "\n",
            "=== Нова серія повідомлень після очікування ===\n",
            "Повідомлення 11 | Користувач 2 | × (очікування 1.0с)\n",
            "Повідомлення 12 | Користувач 3 | × (очікування 0.6с)\n",
            "Повідомлення 13 | Користувач 4 | × (очікування 0.2с)\n",
            "Повідомлення 14 | Користувач 5 | × (очікування 0.5с)\n",
            "Повідомлення 15 | Користувач 1 | × (очікування 0.9с)\n",
            "Повідомлення 16 | Користувач 2 | ✓\n",
            "Повідомлення 17 | Користувач 3 | ✓\n",
            "Повідомлення 18 | Користувач 4 | ✓\n",
            "Повідомлення 19 | Користувач 5 | ✓\n",
            "Повідомлення 20 | Користувач 1 | ✓\n"
          ]
        }
      ]
    },
    {
      "cell_type": "markdown",
      "source": [
        "# Завдання 2. Реалізація Rate Limiter з використанням алгоритму Throttling для обмеження частоти повідомлень у чаті"
      ],
      "metadata": {
        "id": "QXUDnxMjdkOM"
      }
    },
    {
      "cell_type": "code",
      "source": [
        "import time\n",
        "from typing import Dict\n",
        "import random"
      ],
      "metadata": {
        "id": "jJQIJGJ0dP5F"
      },
      "execution_count": 60,
      "outputs": []
    },
    {
      "cell_type": "code",
      "source": [
        "class ThrottlingRateLimiter:\n",
        "    def __init__(self, min_interval: float = 10.0):\n",
        "        self.min_interval = min_interval\n",
        "        self.last_message_time: Dict[str, float] = {}\n",
        "\n",
        "    def can_send_message(self, user_id: str) -> bool:\n",
        "        current_time = time.time()\n",
        "        last_time = self.last_message_time.get(user_id)\n",
        "        if last_time is None:\n",
        "            return True\n",
        "        return (current_time - last_time) >= self.min_interval\n",
        "\n",
        "    def record_message(self, user_id: str) -> bool:\n",
        "        if self.can_send_message(user_id):\n",
        "            self.last_message_time[user_id] = time.time()\n",
        "            return True\n",
        "        return False\n",
        "\n",
        "    def time_until_next_allowed(self, user_id: str) -> float:\n",
        "        current_time = time.time()\n",
        "        last_time = self.last_message_time.get(user_id)\n",
        "        if last_time is None:\n",
        "            return 0.0\n",
        "        wait_time = self.min_interval - (current_time - last_time)\n",
        "        return max(0.0, wait_time)"
      ],
      "metadata": {
        "id": "A2F_tOZKdoH9"
      },
      "execution_count": 61,
      "outputs": []
    },
    {
      "cell_type": "code",
      "source": [
        "# Демонстрація роботи\n",
        "def test_throttling_limiter():\n",
        "    limiter = ThrottlingRateLimiter(min_interval=10.0)\n",
        "\n",
        "    print(\"\\n=== Симуляція потоку повідомлень (Throttling) ===\")\n",
        "    for message_id in range(1, 11):\n",
        "        user_id = message_id % 5 + 1\n",
        "\n",
        "        result = limiter.record_message(str(user_id))\n",
        "        wait_time = limiter.time_until_next_allowed(str(user_id))\n",
        "\n",
        "        print(f\"Повідомлення {message_id:2d} | Користувач {user_id} | \"\n",
        "              f\"{'✓' if result else f'× (очікування {wait_time:.1f}с)'}\")\n",
        "\n",
        "        # Випадкова затримка між повідомленнями\n",
        "        time.sleep(random.uniform(0.1, 1.0))\n",
        "\n",
        "    print(\"\\nОчікуємо 10 секунд...\")\n",
        "    time.sleep(10)\n",
        "\n",
        "    print(\"\\n=== Нова серія повідомлень після очікування ===\")\n",
        "    for message_id in range(11, 21):\n",
        "        user_id = message_id % 5 + 1\n",
        "        result = limiter.record_message(str(user_id))\n",
        "        wait_time = limiter.time_until_next_allowed(str(user_id))\n",
        "        print(f\"Повідомлення {message_id:2d} | Користувач {user_id} | \"\n",
        "              f\"{'✓' if result else f'× (очікування {wait_time:.1f}с)'}\")\n",
        "        time.sleep(random.uniform(0.1, 1.0))"
      ],
      "metadata": {
        "id": "xrrniMhNdpo9"
      },
      "execution_count": 62,
      "outputs": []
    },
    {
      "cell_type": "code",
      "source": [
        "test_throttling_limiter()"
      ],
      "metadata": {
        "colab": {
          "base_uri": "https://localhost:8080/"
        },
        "id": "5cBLrfWUd3nv",
        "outputId": "9ed11dac-2429-484e-c25d-fd7f481d523e"
      },
      "execution_count": 63,
      "outputs": [
        {
          "output_type": "stream",
          "name": "stdout",
          "text": [
            "\n",
            "=== Симуляція потоку повідомлень (Throttling) ===\n",
            "Повідомлення  1 | Користувач 2 | ✓\n",
            "Повідомлення  2 | Користувач 3 | ✓\n",
            "Повідомлення  3 | Користувач 4 | ✓\n",
            "Повідомлення  4 | Користувач 5 | ✓\n",
            "Повідомлення  5 | Користувач 1 | ✓\n",
            "Повідомлення  6 | Користувач 2 | × (очікування 7.3с)\n",
            "Повідомлення  7 | Користувач 3 | × (очікування 7.4с)\n",
            "Повідомлення  8 | Користувач 4 | × (очікування 7.6с)\n",
            "Повідомлення  9 | Користувач 5 | × (очікування 7.7с)\n",
            "Повідомлення 10 | Користувач 1 | × (очікування 7.8с)\n",
            "\n",
            "Очікуємо 10 секунд...\n",
            "\n",
            "=== Нова серія повідомлень після очікування ===\n",
            "Повідомлення 11 | Користувач 2 | ✓\n",
            "Повідомлення 12 | Користувач 3 | ✓\n",
            "Повідомлення 13 | Користувач 4 | ✓\n",
            "Повідомлення 14 | Користувач 5 | ✓\n",
            "Повідомлення 15 | Користувач 1 | ✓\n",
            "Повідомлення 16 | Користувач 2 | × (очікування 6.7с)\n",
            "Повідомлення 17 | Користувач 3 | × (очікування 7.5с)\n",
            "Повідомлення 18 | Користувач 4 | × (очікування 7.4с)\n",
            "Повідомлення 19 | Користувач 5 | × (очікування 7.1с)\n",
            "Повідомлення 20 | Користувач 1 | × (очікування 7.2с)\n"
          ]
        }
      ]
    },
    {
      "cell_type": "code",
      "source": [],
      "metadata": {
        "id": "Qhn1IxUud5J6"
      },
      "execution_count": null,
      "outputs": []
    }
  ]
}