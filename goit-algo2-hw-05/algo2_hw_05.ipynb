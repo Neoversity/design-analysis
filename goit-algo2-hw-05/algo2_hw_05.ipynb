{
  "nbformat": 4,
  "nbformat_minor": 0,
  "metadata": {
    "colab": {
      "provenance": []
    },
    "kernelspec": {
      "name": "python3",
      "display_name": "Python 3"
    },
    "language_info": {
      "name": "python"
    }
  },
  "cells": [
    {
      "cell_type": "markdown",
      "source": [
        "# Завдання 1. Перевірка унікальності паролів за допомогою фільтра Блума"
      ],
      "metadata": {
        "id": "wIETlsIeQ6W1"
      }
    },
    {
      "cell_type": "code",
      "execution_count": 1,
      "metadata": {
        "id": "DTJygviwP_Ym"
      },
      "outputs": [],
      "source": [
        "import hashlib\n"
      ]
    },
    {
      "cell_type": "code",
      "source": [
        "class BloomFilter:\n",
        "    def __init__(self, size: int, num_hashes: int):\n",
        "        self.size = size\n",
        "        self.num_hashes = num_hashes\n",
        "        self.bit_array = [0] * size\n",
        "\n",
        "    def _hashes(self, item: str):\n",
        "        \"\"\"Генерує num_hashes хешів для рядка item\"\"\"\n",
        "        hashes = []\n",
        "        for i in range(self.num_hashes):\n",
        "            hash_input = f\"{item}{i}\".encode()\n",
        "            hash_digest = hashlib.md5(hash_input).hexdigest()\n",
        "            hash_int = int(hash_digest, 16)\n",
        "            hashes.append(hash_int % self.size)\n",
        "        return hashes\n",
        "\n",
        "    def add(self, item: str):\n",
        "        \"\"\"Додає елемент до фільтра\"\"\"\n",
        "        for h in self._hashes(item):\n",
        "            self.bit_array[h] = 1\n",
        "\n",
        "    def contains(self, item: str) -> bool:\n",
        "        \"\"\"Перевіряє, чи може елемент бути в фільтрі\"\"\"\n",
        "        return all(self.bit_array[h] for h in self._hashes(item))\n"
      ],
      "metadata": {
        "id": "kFg8-U_mQRhy"
      },
      "execution_count": 2,
      "outputs": []
    },
    {
      "cell_type": "code",
      "source": [
        "def check_password_uniqueness(bloom: BloomFilter, passwords: list) -> dict:\n",
        "    results = {}\n",
        "\n",
        "    for pwd in passwords:\n",
        "        if not isinstance(pwd, str) or pwd.strip() == \"\":\n",
        "            results[pwd] = \"некоректний пароль\"\n",
        "            continue\n",
        "\n",
        "        if bloom.contains(pwd):\n",
        "            results[pwd] = \"вже використаний\"\n",
        "        else:\n",
        "            results[pwd] = \"унікальний\"\n",
        "            bloom.add(pwd)\n",
        "\n",
        "    return results\n"
      ],
      "metadata": {
        "id": "A6JJE19fQVQZ"
      },
      "execution_count": 3,
      "outputs": []
    },
    {
      "cell_type": "code",
      "source": [
        "if __name__ == \"__main__\":\n",
        "    # Ініціалізація фільтра Блума\n",
        "    bloom = BloomFilter(size=1000, num_hashes=3)\n",
        "\n",
        "    # Додавання існуючих паролів\n",
        "    existing_passwords = [\"password123\", \"admin123\", \"qwerty123\"]\n",
        "    for password in existing_passwords:\n",
        "        bloom.add(password)\n",
        "\n",
        "    # Перевірка нових паролів\n",
        "    new_passwords_to_check = [\"password123\", \"newpassword\", \"admin123\", \"guest\", \"\", None]\n",
        "    results = check_password_uniqueness(bloom, new_passwords_to_check)\n",
        "\n",
        "    # Виведення результатів\n",
        "    for password, status in results.items():\n",
        "        print(f\"Пароль '{password}' — {status}.\")\n"
      ],
      "metadata": {
        "colab": {
          "base_uri": "https://localhost:8080/"
        },
        "id": "MC-hYlf_QcP5",
        "outputId": "a93b8098-39db-404c-b21d-68f4cca0ee99"
      },
      "execution_count": 4,
      "outputs": [
        {
          "output_type": "stream",
          "name": "stdout",
          "text": [
            "Пароль 'password123' — вже використаний.\n",
            "Пароль 'newpassword' — унікальний.\n",
            "Пароль 'admin123' — вже використаний.\n",
            "Пароль 'guest' — унікальний.\n",
            "Пароль '' — некоректний пароль.\n",
            "Пароль 'None' — некоректний пароль.\n"
          ]
        }
      ]
    },
    {
      "cell_type": "markdown",
      "source": [
        "# Завдання 2. Порівняння продуктивності HyperLogLog із точним підрахунком унікальних елементів"
      ],
      "metadata": {
        "id": "HmHrCfoNRBQh"
      }
    },
    {
      "cell_type": "code",
      "source": [
        "!pip install datasketch\n"
      ],
      "metadata": {
        "colab": {
          "base_uri": "https://localhost:8080/"
        },
        "id": "AfZLJueeQgeI",
        "outputId": "13b9906e-c8b8-47d4-d075-a708225d95e9"
      },
      "execution_count": 5,
      "outputs": [
        {
          "output_type": "stream",
          "name": "stdout",
          "text": [
            "Collecting datasketch\n",
            "  Downloading datasketch-1.6.5-py3-none-any.whl.metadata (5.8 kB)\n",
            "Requirement already satisfied: numpy>=1.11 in /usr/local/lib/python3.11/dist-packages (from datasketch) (2.0.2)\n",
            "Requirement already satisfied: scipy>=1.0.0 in /usr/local/lib/python3.11/dist-packages (from datasketch) (1.15.3)\n",
            "Downloading datasketch-1.6.5-py3-none-any.whl (89 kB)\n",
            "\u001b[2K   \u001b[90m━━━━━━━━━━━━━━━━━━━━━━━━━━━━━━━━━━━━━━━━\u001b[0m \u001b[32m89.2/89.2 kB\u001b[0m \u001b[31m2.2 MB/s\u001b[0m eta \u001b[36m0:00:00\u001b[0m\n",
            "\u001b[?25hInstalling collected packages: datasketch\n",
            "Successfully installed datasketch-1.6.5\n"
          ]
        }
      ]
    },
    {
      "cell_type": "code",
      "source": [
        "import time\n",
        "from datasketch import HyperLogLog\n",
        "import re\n",
        "import pandas as pd\n"
      ],
      "metadata": {
        "id": "-fTQbdyDRXLd"
      },
      "execution_count": 6,
      "outputs": []
    },
    {
      "cell_type": "code",
      "source": [
        "def load_ip_addresses(filepath):\n",
        "    ip_pattern = re.compile(r'\\b(?:\\d{1,3}\\.){3}\\d{1,3}\\b')\n",
        "    ip_list = []\n",
        "\n",
        "    with open(filepath, 'r') as file:\n",
        "        for line in file:\n",
        "            match = ip_pattern.search(line)\n",
        "            if match:\n",
        "                ip_list.append(match.group())\n",
        "\n",
        "    return ip_list\n"
      ],
      "metadata": {
        "id": "7YsnUw3MRaDa"
      },
      "execution_count": 7,
      "outputs": []
    },
    {
      "cell_type": "code",
      "source": [
        "def count_unique_ips_exact(ip_list):\n",
        "    start = time.time()\n",
        "    unique_ips = set(ip_list)\n",
        "    duration = time.time() - start\n",
        "    return len(unique_ips), duration\n"
      ],
      "metadata": {
        "id": "MSZT_229RpZI"
      },
      "execution_count": 8,
      "outputs": []
    },
    {
      "cell_type": "code",
      "source": [
        "def count_unique_ips_hll(ip_list, hll_precision=14):\n",
        "    hll = HyperLogLog(p=hll_precision)\n",
        "    start = time.time()\n",
        "    for ip in ip_list:\n",
        "        hll.update(ip.encode('utf8'))\n",
        "    duration = time.time() - start\n",
        "    return hll.count(), duration\n"
      ],
      "metadata": {
        "id": "3BxoyGEPRq7w"
      },
      "execution_count": 9,
      "outputs": []
    },
    {
      "cell_type": "code",
      "source": [
        "# Вказуємо шлях до файлу\n",
        "file_path = \"/content/sample_data/lms-stage-access.log\"\n",
        "\n",
        "# Завантажуємо IP-адреси\n",
        "ip_addresses = load_ip_addresses(file_path)\n",
        "\n",
        "# Підрахунок точний\n",
        "exact_count, exact_time = count_unique_ips_exact(ip_addresses)\n",
        "\n",
        "# Підрахунок через HyperLogLog\n",
        "hll_count, hll_time = count_unique_ips_hll(ip_addresses)\n",
        "\n",
        "# Виведення таблиці порівняння\n",
        "results_df = pd.DataFrame({\n",
        "    \"Метод\": [\"Точний підрахунок\", \"HyperLogLog\"],\n",
        "    \"Унікальні елементи\": [exact_count, hll_count],\n",
        "    \"Час виконання (сек)\": [round(exact_time, 4), round(hll_time, 4)]\n",
        "})\n",
        "\n",
        "import IPython.display as disp\n",
        "disp.display(results_df)\n"
      ],
      "metadata": {
        "colab": {
          "base_uri": "https://localhost:8080/",
          "height": 112
        },
        "id": "7XpXHwv3RsMg",
        "outputId": "7650696b-1b10-4098-d552-44141544f733"
      },
      "execution_count": 10,
      "outputs": [
        {
          "output_type": "display_data",
          "data": {
            "text/plain": [
              "               Метод  Унікальні елементи  Час виконання (сек)\n",
              "0  Точний підрахунок           28.000000               0.0022\n",
              "1        HyperLogLog           28.023953               0.1130"
            ],
            "text/html": [
              "\n",
              "  <div id=\"df-a716d0cd-e373-46f3-a2d0-03625d6e254a\" class=\"colab-df-container\">\n",
              "    <div>\n",
              "<style scoped>\n",
              "    .dataframe tbody tr th:only-of-type {\n",
              "        vertical-align: middle;\n",
              "    }\n",
              "\n",
              "    .dataframe tbody tr th {\n",
              "        vertical-align: top;\n",
              "    }\n",
              "\n",
              "    .dataframe thead th {\n",
              "        text-align: right;\n",
              "    }\n",
              "</style>\n",
              "<table border=\"1\" class=\"dataframe\">\n",
              "  <thead>\n",
              "    <tr style=\"text-align: right;\">\n",
              "      <th></th>\n",
              "      <th>Метод</th>\n",
              "      <th>Унікальні елементи</th>\n",
              "      <th>Час виконання (сек)</th>\n",
              "    </tr>\n",
              "  </thead>\n",
              "  <tbody>\n",
              "    <tr>\n",
              "      <th>0</th>\n",
              "      <td>Точний підрахунок</td>\n",
              "      <td>28.000000</td>\n",
              "      <td>0.0022</td>\n",
              "    </tr>\n",
              "    <tr>\n",
              "      <th>1</th>\n",
              "      <td>HyperLogLog</td>\n",
              "      <td>28.023953</td>\n",
              "      <td>0.1130</td>\n",
              "    </tr>\n",
              "  </tbody>\n",
              "</table>\n",
              "</div>\n",
              "    <div class=\"colab-df-buttons\">\n",
              "\n",
              "  <div class=\"colab-df-container\">\n",
              "    <button class=\"colab-df-convert\" onclick=\"convertToInteractive('df-a716d0cd-e373-46f3-a2d0-03625d6e254a')\"\n",
              "            title=\"Convert this dataframe to an interactive table.\"\n",
              "            style=\"display:none;\">\n",
              "\n",
              "  <svg xmlns=\"http://www.w3.org/2000/svg\" height=\"24px\" viewBox=\"0 -960 960 960\">\n",
              "    <path d=\"M120-120v-720h720v720H120Zm60-500h600v-160H180v160Zm220 220h160v-160H400v160Zm0 220h160v-160H400v160ZM180-400h160v-160H180v160Zm440 0h160v-160H620v160ZM180-180h160v-160H180v160Zm440 0h160v-160H620v160Z\"/>\n",
              "  </svg>\n",
              "    </button>\n",
              "\n",
              "  <style>\n",
              "    .colab-df-container {\n",
              "      display:flex;\n",
              "      gap: 12px;\n",
              "    }\n",
              "\n",
              "    .colab-df-convert {\n",
              "      background-color: #E8F0FE;\n",
              "      border: none;\n",
              "      border-radius: 50%;\n",
              "      cursor: pointer;\n",
              "      display: none;\n",
              "      fill: #1967D2;\n",
              "      height: 32px;\n",
              "      padding: 0 0 0 0;\n",
              "      width: 32px;\n",
              "    }\n",
              "\n",
              "    .colab-df-convert:hover {\n",
              "      background-color: #E2EBFA;\n",
              "      box-shadow: 0px 1px 2px rgba(60, 64, 67, 0.3), 0px 1px 3px 1px rgba(60, 64, 67, 0.15);\n",
              "      fill: #174EA6;\n",
              "    }\n",
              "\n",
              "    .colab-df-buttons div {\n",
              "      margin-bottom: 4px;\n",
              "    }\n",
              "\n",
              "    [theme=dark] .colab-df-convert {\n",
              "      background-color: #3B4455;\n",
              "      fill: #D2E3FC;\n",
              "    }\n",
              "\n",
              "    [theme=dark] .colab-df-convert:hover {\n",
              "      background-color: #434B5C;\n",
              "      box-shadow: 0px 1px 3px 1px rgba(0, 0, 0, 0.15);\n",
              "      filter: drop-shadow(0px 1px 2px rgba(0, 0, 0, 0.3));\n",
              "      fill: #FFFFFF;\n",
              "    }\n",
              "  </style>\n",
              "\n",
              "    <script>\n",
              "      const buttonEl =\n",
              "        document.querySelector('#df-a716d0cd-e373-46f3-a2d0-03625d6e254a button.colab-df-convert');\n",
              "      buttonEl.style.display =\n",
              "        google.colab.kernel.accessAllowed ? 'block' : 'none';\n",
              "\n",
              "      async function convertToInteractive(key) {\n",
              "        const element = document.querySelector('#df-a716d0cd-e373-46f3-a2d0-03625d6e254a');\n",
              "        const dataTable =\n",
              "          await google.colab.kernel.invokeFunction('convertToInteractive',\n",
              "                                                    [key], {});\n",
              "        if (!dataTable) return;\n",
              "\n",
              "        const docLinkHtml = 'Like what you see? Visit the ' +\n",
              "          '<a target=\"_blank\" href=https://colab.research.google.com/notebooks/data_table.ipynb>data table notebook</a>'\n",
              "          + ' to learn more about interactive tables.';\n",
              "        element.innerHTML = '';\n",
              "        dataTable['output_type'] = 'display_data';\n",
              "        await google.colab.output.renderOutput(dataTable, element);\n",
              "        const docLink = document.createElement('div');\n",
              "        docLink.innerHTML = docLinkHtml;\n",
              "        element.appendChild(docLink);\n",
              "      }\n",
              "    </script>\n",
              "  </div>\n",
              "\n",
              "\n",
              "    <div id=\"df-0c4d639e-9e6c-4bde-bd04-28cf7de03521\">\n",
              "      <button class=\"colab-df-quickchart\" onclick=\"quickchart('df-0c4d639e-9e6c-4bde-bd04-28cf7de03521')\"\n",
              "                title=\"Suggest charts\"\n",
              "                style=\"display:none;\">\n",
              "\n",
              "<svg xmlns=\"http://www.w3.org/2000/svg\" height=\"24px\"viewBox=\"0 0 24 24\"\n",
              "     width=\"24px\">\n",
              "    <g>\n",
              "        <path d=\"M19 3H5c-1.1 0-2 .9-2 2v14c0 1.1.9 2 2 2h14c1.1 0 2-.9 2-2V5c0-1.1-.9-2-2-2zM9 17H7v-7h2v7zm4 0h-2V7h2v10zm4 0h-2v-4h2v4z\"/>\n",
              "    </g>\n",
              "</svg>\n",
              "      </button>\n",
              "\n",
              "<style>\n",
              "  .colab-df-quickchart {\n",
              "      --bg-color: #E8F0FE;\n",
              "      --fill-color: #1967D2;\n",
              "      --hover-bg-color: #E2EBFA;\n",
              "      --hover-fill-color: #174EA6;\n",
              "      --disabled-fill-color: #AAA;\n",
              "      --disabled-bg-color: #DDD;\n",
              "  }\n",
              "\n",
              "  [theme=dark] .colab-df-quickchart {\n",
              "      --bg-color: #3B4455;\n",
              "      --fill-color: #D2E3FC;\n",
              "      --hover-bg-color: #434B5C;\n",
              "      --hover-fill-color: #FFFFFF;\n",
              "      --disabled-bg-color: #3B4455;\n",
              "      --disabled-fill-color: #666;\n",
              "  }\n",
              "\n",
              "  .colab-df-quickchart {\n",
              "    background-color: var(--bg-color);\n",
              "    border: none;\n",
              "    border-radius: 50%;\n",
              "    cursor: pointer;\n",
              "    display: none;\n",
              "    fill: var(--fill-color);\n",
              "    height: 32px;\n",
              "    padding: 0;\n",
              "    width: 32px;\n",
              "  }\n",
              "\n",
              "  .colab-df-quickchart:hover {\n",
              "    background-color: var(--hover-bg-color);\n",
              "    box-shadow: 0 1px 2px rgba(60, 64, 67, 0.3), 0 1px 3px 1px rgba(60, 64, 67, 0.15);\n",
              "    fill: var(--button-hover-fill-color);\n",
              "  }\n",
              "\n",
              "  .colab-df-quickchart-complete:disabled,\n",
              "  .colab-df-quickchart-complete:disabled:hover {\n",
              "    background-color: var(--disabled-bg-color);\n",
              "    fill: var(--disabled-fill-color);\n",
              "    box-shadow: none;\n",
              "  }\n",
              "\n",
              "  .colab-df-spinner {\n",
              "    border: 2px solid var(--fill-color);\n",
              "    border-color: transparent;\n",
              "    border-bottom-color: var(--fill-color);\n",
              "    animation:\n",
              "      spin 1s steps(1) infinite;\n",
              "  }\n",
              "\n",
              "  @keyframes spin {\n",
              "    0% {\n",
              "      border-color: transparent;\n",
              "      border-bottom-color: var(--fill-color);\n",
              "      border-left-color: var(--fill-color);\n",
              "    }\n",
              "    20% {\n",
              "      border-color: transparent;\n",
              "      border-left-color: var(--fill-color);\n",
              "      border-top-color: var(--fill-color);\n",
              "    }\n",
              "    30% {\n",
              "      border-color: transparent;\n",
              "      border-left-color: var(--fill-color);\n",
              "      border-top-color: var(--fill-color);\n",
              "      border-right-color: var(--fill-color);\n",
              "    }\n",
              "    40% {\n",
              "      border-color: transparent;\n",
              "      border-right-color: var(--fill-color);\n",
              "      border-top-color: var(--fill-color);\n",
              "    }\n",
              "    60% {\n",
              "      border-color: transparent;\n",
              "      border-right-color: var(--fill-color);\n",
              "    }\n",
              "    80% {\n",
              "      border-color: transparent;\n",
              "      border-right-color: var(--fill-color);\n",
              "      border-bottom-color: var(--fill-color);\n",
              "    }\n",
              "    90% {\n",
              "      border-color: transparent;\n",
              "      border-bottom-color: var(--fill-color);\n",
              "    }\n",
              "  }\n",
              "</style>\n",
              "\n",
              "      <script>\n",
              "        async function quickchart(key) {\n",
              "          const quickchartButtonEl =\n",
              "            document.querySelector('#' + key + ' button');\n",
              "          quickchartButtonEl.disabled = true;  // To prevent multiple clicks.\n",
              "          quickchartButtonEl.classList.add('colab-df-spinner');\n",
              "          try {\n",
              "            const charts = await google.colab.kernel.invokeFunction(\n",
              "                'suggestCharts', [key], {});\n",
              "          } catch (error) {\n",
              "            console.error('Error during call to suggestCharts:', error);\n",
              "          }\n",
              "          quickchartButtonEl.classList.remove('colab-df-spinner');\n",
              "          quickchartButtonEl.classList.add('colab-df-quickchart-complete');\n",
              "        }\n",
              "        (() => {\n",
              "          let quickchartButtonEl =\n",
              "            document.querySelector('#df-0c4d639e-9e6c-4bde-bd04-28cf7de03521 button');\n",
              "          quickchartButtonEl.style.display =\n",
              "            google.colab.kernel.accessAllowed ? 'block' : 'none';\n",
              "        })();\n",
              "      </script>\n",
              "    </div>\n",
              "    </div>\n",
              "  </div>\n"
            ],
            "application/vnd.google.colaboratory.intrinsic+json": {
              "type": "dataframe",
              "variable_name": "results_df",
              "summary": "{\n  \"name\": \"results_df\",\n  \"rows\": 2,\n  \"fields\": [\n    {\n      \"column\": \"\\u041c\\u0435\\u0442\\u043e\\u0434\",\n      \"properties\": {\n        \"dtype\": \"string\",\n        \"num_unique_values\": 2,\n        \"samples\": [\n          \"HyperLogLog\",\n          \"\\u0422\\u043e\\u0447\\u043d\\u0438\\u0439 \\u043f\\u0456\\u0434\\u0440\\u0430\\u0445\\u0443\\u043d\\u043e\\u043a\"\n        ],\n        \"semantic_type\": \"\",\n        \"description\": \"\"\n      }\n    },\n    {\n      \"column\": \"\\u0423\\u043d\\u0456\\u043a\\u0430\\u043b\\u044c\\u043d\\u0456 \\u0435\\u043b\\u0435\\u043c\\u0435\\u043d\\u0442\\u0438\",\n      \"properties\": {\n        \"dtype\": \"number\",\n        \"std\": 0.016937382065919403,\n        \"min\": 28.0,\n        \"max\": 28.023953075428718,\n        \"num_unique_values\": 2,\n        \"samples\": [\n          28.023953075428718,\n          28.0\n        ],\n        \"semantic_type\": \"\",\n        \"description\": \"\"\n      }\n    },\n    {\n      \"column\": \"\\u0427\\u0430\\u0441 \\u0432\\u0438\\u043a\\u043e\\u043d\\u0430\\u043d\\u043d\\u044f (\\u0441\\u0435\\u043a)\",\n      \"properties\": {\n        \"dtype\": \"number\",\n        \"std\": 0.07834743135546947,\n        \"min\": 0.0022,\n        \"max\": 0.113,\n        \"num_unique_values\": 2,\n        \"samples\": [\n          0.113,\n          0.0022\n        ],\n        \"semantic_type\": \"\",\n        \"description\": \"\"\n      }\n    }\n  ]\n}"
            }
          },
          "metadata": {}
        }
      ]
    },
    {
      "cell_type": "code",
      "source": [
        "abs_error = abs(exact_count - hll_count)\n",
        "rel_error = abs_error / exact_count * 100\n",
        "print(f\"Абсолютна похибка: {abs_error}, Відносна: {rel_error:.2f}%\")\n"
      ],
      "metadata": {
        "colab": {
          "base_uri": "https://localhost:8080/"
        },
        "id": "ihNE--nBRuaF",
        "outputId": "18de57c0-cc19-4edf-835d-e429fb67c02c"
      },
      "execution_count": 11,
      "outputs": [
        {
          "output_type": "stream",
          "name": "stdout",
          "text": [
            "Абсолютна похибка: 0.02395307542871805, Відносна: 0.09%\n"
          ]
        }
      ]
    },
    {
      "cell_type": "code",
      "source": [],
      "metadata": {
        "id": "pRbjhKkMRzzk"
      },
      "execution_count": null,
      "outputs": []
    }
  ]
}