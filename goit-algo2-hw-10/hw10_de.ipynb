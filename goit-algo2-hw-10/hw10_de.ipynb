{
  "nbformat": 4,
  "nbformat_minor": 0,
  "metadata": {
    "colab": {
      "provenance": []
    },
    "kernelspec": {
      "name": "python3",
      "display_name": "Python 3"
    },
    "language_info": {
      "name": "python"
    }
  },
  "cells": [
    {
      "cell_type": "markdown",
      "source": [
        "# Завдання 1. Порівняння рандомізованого та детермінованого QuickSort"
      ],
      "metadata": {
        "id": "ZSrYeiAmvG4I"
      }
    },
    {
      "cell_type": "code",
      "source": [
        "import random\n",
        "import time\n",
        "import numpy as np\n",
        "import matplotlib.pyplot as plt\n",
        "import pandas as pd"
      ],
      "metadata": {
        "id": "1hnD9SFQoMJo"
      },
      "execution_count": 6,
      "outputs": []
    },
    {
      "cell_type": "code",
      "source": [
        "# -------------------------------\n",
        "# Детермінований QuickSort\n",
        "# -------------------------------\n",
        "def deterministic_quick_sort(arr):\n",
        "    if len(arr) <= 1:\n",
        "        return arr\n",
        "    else:\n",
        "        pivot = arr[len(arr) // 2]  # фіксований вибір опорного\n",
        "        left = [x for x in arr if x < pivot]\n",
        "        middle = [x for x in arr if x == pivot]\n",
        "        right = [x for x in arr if x > pivot]\n",
        "        return deterministic_quick_sort(left) + middle + deterministic_quick_sort(right)"
      ],
      "metadata": {
        "id": "_ZZWTcJPu5ud"
      },
      "execution_count": 7,
      "outputs": []
    },
    {
      "cell_type": "code",
      "source": [
        "# -------------------------------\n",
        "# Рандомізований QuickSort\n",
        "# -------------------------------\n",
        "def randomized_quick_sort(arr):\n",
        "    if len(arr) <= 1:\n",
        "        return arr\n",
        "    else:\n",
        "        pivot = random.choice(arr)  # випадковий вибір опорного\n",
        "        left = [x for x in arr if x < pivot]\n",
        "        middle = [x for x in arr if x == pivot]\n",
        "        right = [x for x in arr if x > pivot]\n",
        "        return randomized_quick_sort(left) + middle + randomized_quick_sort(right)"
      ],
      "metadata": {
        "id": "90nf6PFtu7ZN"
      },
      "execution_count": 8,
      "outputs": []
    },
    {
      "cell_type": "code",
      "source": [
        "# -------------------------------\n",
        "# Функція для вимірювання часу виконання\n",
        "# -------------------------------\n",
        "def measure_time(sort_function, array, repetitions=5):\n",
        "    times = []\n",
        "    for _ in range(repetitions):\n",
        "        arr_copy = list(array)\n",
        "        start = time.perf_counter()\n",
        "        sort_function(arr_copy)\n",
        "        end = time.perf_counter()\n",
        "        times.append(end - start)\n",
        "    return np.mean(times)"
      ],
      "metadata": {
        "id": "UdPW9J1Tu9K2"
      },
      "execution_count": 9,
      "outputs": []
    },
    {
      "cell_type": "code",
      "source": [
        "# -------------------------------\n",
        "# Основна частина: тести + побудова графіка\n",
        "# -------------------------------\n",
        "sizes = [10_000, 50_000, 100_000, 500_000]\n",
        "randomized_times = []\n",
        "deterministic_times = []\n",
        "\n",
        "for size in sizes:\n",
        "    test_array = [random.randint(0, size) for _ in range(size)]\n",
        "\n",
        "    rand_time = measure_time(randomized_quick_sort, test_array)\n",
        "    det_time = measure_time(deterministic_quick_sort, test_array)\n",
        "\n",
        "    randomized_times.append(rand_time)\n",
        "    deterministic_times.append(det_time)\n",
        "\n",
        "    print(f\"Розмір масиву: {size}\")\n",
        "    print(f\"   Рандомізований QuickSort: {rand_time:.4f} секунд\")\n",
        "    print(f\"   Детермінований QuickSort: {det_time:.4f} секунд\\n\")"
      ],
      "metadata": {
        "colab": {
          "base_uri": "https://localhost:8080/"
        },
        "id": "ekUmwir6u-tu",
        "outputId": "05eab8a0-6d28-4ad5-a6d0-fb5ee7587e58"
      },
      "execution_count": 10,
      "outputs": [
        {
          "output_type": "stream",
          "name": "stdout",
          "text": [
            "Розмір масиву: 10000\n",
            "   Рандомізований QuickSort: 0.0431 секунд\n",
            "   Детермінований QuickSort: 0.0474 секунд\n",
            "\n",
            "Розмір масиву: 50000\n",
            "   Рандомізований QuickSort: 0.2451 секунд\n",
            "   Детермінований QuickSort: 0.1255 секунд\n",
            "\n",
            "Розмір масиву: 100000\n",
            "   Рандомізований QuickSort: 0.2615 секунд\n",
            "   Детермінований QuickSort: 0.2416 секунд\n",
            "\n",
            "Розмір масиву: 500000\n",
            "   Рандомізований QuickSort: 2.4081 секунд\n",
            "   Детермінований QuickSort: 2.1395 секунд\n",
            "\n"
          ]
        }
      ]
    },
    {
      "cell_type": "code",
      "source": [
        "# -------------------------------\n",
        "# Побудова графіка\n",
        "# -------------------------------\n",
        "plt.figure(figsize=(10, 6))\n",
        "plt.plot(sizes, randomized_times, label=\"Рандомізований QuickSort\", linewidth=2)\n",
        "plt.plot(sizes, deterministic_times, label=\"Детермінований QuickSort\", linewidth=2)\n",
        "plt.title(\"Порівняння рандомізованого та детермінованого QuickSort\")\n",
        "plt.xlabel(\"Розмір масиву\")\n",
        "plt.ylabel(\"Середній час виконання (секунди)\")\n",
        "plt.legend()\n",
        "plt.grid(True)\n",
        "plt.show()"
      ],
      "metadata": {
        "colab": {
          "base_uri": "https://localhost:8080/",
          "height": 564
        },
        "id": "KEY6rRuKvA-Z",
        "outputId": "731cfe26-ed79-4752-cb80-403d05e38b29"
      },
      "execution_count": 11,
      "outputs": [
        {
          "output_type": "display_data",
          "data": {
            "text/plain": [
              "<Figure size 1000x600 with 1 Axes>"
            ],
            "image/png": "[encoded data removed]"
          },
          "metadata": {}
        }
      ]
    },
    {
      "cell_type": "code",
      "source": [
        "# -------------------------------\n",
        "# Таблиця результатів\n",
        "# -------------------------------\n",
        "df = pd.DataFrame({\n",
        "    \"Розмір масиву\": sizes,\n",
        "    \"Рандомізований QuickSort (сек)\": randomized_times,\n",
        "    \"Детермінований QuickSort (сек)\": deterministic_times\n",
        "})\n",
        "df"
      ],
      "metadata": {
        "colab": {
          "base_uri": "https://localhost:8080/",
          "height": 174
        },
        "id": "TL64xalYvC1t",
        "outputId": "7743ac43-c637-4efa-b199-a183ae6cd871"
      },
      "execution_count": 12,
      "outputs": [
        {
          "output_type": "execute_result",
          "data": {
            "text/plain": [
              "   Розмір масиву  Рандомізований QuickSort (сек)  \\\n",
              "0          10000                        0.043059   \n",
              "1          50000                        0.245103   \n",
              "2         100000                        0.261518   \n",
              "3         500000                        2.408144   \n",
              "\n",
              "   Детермінований QuickSort (сек)  \n",
              "0                        0.047382  \n",
              "1                        0.125462  \n",
              "2                        0.241607  \n",
              "3                        2.139462  "
            ],
            "text/html": [
              "\n",
              "  <div id=\"df-e6fe20ad-f16a-4526-94a0-d2741d6f74b1\" class=\"colab-df-container\">\n",
              "    <div>\n",
              "<style scoped>\n",
              "    .dataframe tbody tr th:only-of-type {\n",
              "        vertical-align: middle;\n",
              "    }\n",
              "\n",
              "    .dataframe tbody tr th {\n",
              "        vertical-align: top;\n",
              "    }\n",
              "\n",
              "    .dataframe thead th {\n",
              "        text-align: right;\n",
              "    }\n",
              "</style>\n",
              "<table border=\"1\" class=\"dataframe\">\n",
              "  <thead>\n",
              "    <tr style=\"text-align: right;\">\n",
              "      <th></th>\n",
              "      <th>Розмір масиву</th>\n",
              "      <th>Рандомізований QuickSort (сек)</th>\n",
              "      <th>Детермінований QuickSort (сек)</th>\n",
              "    </tr>\n",
              "  </thead>\n",
              "  <tbody>\n",
              "    <tr>\n",
              "      <th>0</th>\n",
              "      <td>10000</td>\n",
              "      <td>0.043059</td>\n",
              "      <td>0.047382</td>\n",
              "    </tr>\n",
              "    <tr>\n",
              "      <th>1</th>\n",
              "      <td>50000</td>\n",
              "      <td>0.245103</td>\n",
              "      <td>0.125462</td>\n",
              "    </tr>\n",
              "    <tr>\n",
              "      <th>2</th>\n",
              "      <td>100000</td>\n",
              "      <td>0.261518</td>\n",
              "      <td>0.241607</td>\n",
              "    </tr>\n",
              "    <tr>\n",
              "      <th>3</th>\n",
              "      <td>500000</td>\n",
              "      <td>2.408144</td>\n",
              "      <td>2.139462</td>\n",
              "    </tr>\n",
              "  </tbody>\n",
              "</table>\n",
              "</div>\n",
              "    <div class=\"colab-df-buttons\">\n",
              "\n",
              "  <div class=\"colab-df-container\">\n",
              "    <button class=\"colab-df-convert\" onclick=\"convertToInteractive('df-e6fe20ad-f16a-4526-94a0-d2741d6f74b1')\"\n",
              "            title=\"Convert this dataframe to an interactive table.\"\n",
              "            style=\"display:none;\">\n",
              "\n",
              "  <svg xmlns=\"http://www.w3.org/2000/svg\" height=\"24px\" viewBox=\"0 -960 960 960\">\n",
              "    <path d=\"M120-120v-720h720v720H120Zm60-500h600v-160H180v160Zm220 220h160v-160H400v160Zm0 220h160v-160H400v160ZM180-400h160v-160H180v160Zm440 0h160v-160H620v160ZM180-180h160v-160H180v160Zm440 0h160v-160H620v160Z\"/>\n",
              "  </svg>\n",
              "    </button>\n",
              "\n",
              "  <style>\n",
              "    .colab-df-container {\n",
              "      display:flex;\n",
              "      gap: 12px;\n",
              "    }\n",
              "\n",
              "    .colab-df-convert {\n",
              "      background-color: #E8F0FE;\n",
              "      border: none;\n",
              "      border-radius: 50%;\n",
              "      cursor: pointer;\n",
              "      display: none;\n",
              "      fill: #1967D2;\n",
              "      height: 32px;\n",
              "      padding: 0 0 0 0;\n",
              "      width: 32px;\n",
              "    }\n",
              "\n",
              "    .colab-df-convert:hover {\n",
              "      background-color: #E2EBFA;\n",
              "      box-shadow: 0px 1px 2px rgba(60, 64, 67, 0.3), 0px 1px 3px 1px rgba(60, 64, 67, 0.15);\n",
              "      fill: #174EA6;\n",
              "    }\n",
              "\n",
              "    .colab-df-buttons div {\n",
              "      margin-bottom: 4px;\n",
              "    }\n",
              "\n",
              "    [theme=dark] .colab-df-convert {\n",
              "      background-color: #3B4455;\n",
              "      fill: #D2E3FC;\n",
              "    }\n",
              "\n",
              "    [theme=dark] .colab-df-convert:hover {\n",
              "      background-color: #434B5C;\n",
              "      box-shadow: 0px 1px 3px 1px rgba(0, 0, 0, 0.15);\n",
              "      filter: drop-shadow(0px 1px 2px rgba(0, 0, 0, 0.3));\n",
              "      fill: #FFFFFF;\n",
              "    }\n",
              "  </style>\n",
              "\n",
              "    <script>\n",
              "      const buttonEl =\n",
              "        document.querySelector('#df-e6fe20ad-f16a-4526-94a0-d2741d6f74b1 button.colab-df-convert');\n",
              "      buttonEl.style.display =\n",
              "        google.colab.kernel.accessAllowed ? 'block' : 'none';\n",
              "\n",
              "      async function convertToInteractive(key) {\n",
              "        const element = document.querySelector('#df-e6fe20ad-f16a-4526-94a0-d2741d6f74b1');\n",
              "        const dataTable =\n",
              "          await google.colab.kernel.invokeFunction('convertToInteractive',\n",
              "                                                    [key], {});\n",
              "        if (!dataTable) return;\n",
              "\n",
              "        const docLinkHtml = 'Like what you see? Visit the ' +\n",
              "          '<a target=\"_blank\" href=https://colab.research.google.com/notebooks/data_table.ipynb>data table notebook</a>'\n",
              "          + ' to learn more about interactive tables.';\n",
              "        element.innerHTML = '';\n",
              "        dataTable['output_type'] = 'display_data';\n",
              "        await google.colab.output.renderOutput(dataTable, element);\n",
              "        const docLink = document.createElement('div');\n",
              "        docLink.innerHTML = docLinkHtml;\n",
              "        element.appendChild(docLink);\n",
              "      }\n",
              "    </script>\n",
              "  </div>\n",
              "\n",
              "\n",
              "    <div id=\"df-d8749c67-75ce-4222-b84b-046303428e51\">\n",
              "      <button class=\"colab-df-quickchart\" onclick=\"quickchart('df-d8749c67-75ce-4222-b84b-046303428e51')\"\n",
              "                title=\"Suggest charts\"\n",
              "                style=\"display:none;\">\n",
              "\n",
              "<svg xmlns=\"http://www.w3.org/2000/svg\" height=\"24px\"viewBox=\"0 0 24 24\"\n",
              "     width=\"24px\">\n",
              "    <g>\n",
              "        <path d=\"M19 3H5c-1.1 0-2 .9-2 2v14c0 1.1.9 2 2 2h14c1.1 0 2-.9 2-2V5c0-1.1-.9-2-2-2zM9 17H7v-7h2v7zm4 0h-2V7h2v10zm4 0h-2v-4h2v4z\"/>\n",
              "    </g>\n",
              "</svg>\n",
              "      </button>\n",
              "\n",
              "<style>\n",
              "  .colab-df-quickchart {\n",
              "      --bg-color: #E8F0FE;\n",
              "      --fill-color: #1967D2;\n",
              "      --hover-bg-color: #E2EBFA;\n",
              "      --hover-fill-color: #174EA6;\n",
              "      --disabled-fill-color: #AAA;\n",
              "      --disabled-bg-color: #DDD;\n",
              "  }\n",
              "\n",
              "  [theme=dark] .colab-df-quickchart {\n",
              "      --bg-color: #3B4455;\n",
              "      --fill-color: #D2E3FC;\n",
              "      --hover-bg-color: #434B5C;\n",
              "      --hover-fill-color: #FFFFFF;\n",
              "      --disabled-bg-color: #3B4455;\n",
              "      --disabled-fill-color: #666;\n",
              "  }\n",
              "\n",
              "  .colab-df-quickchart {\n",
              "    background-color: var(--bg-color);\n",
              "    border: none;\n",
              "    border-radius: 50%;\n",
              "    cursor: pointer;\n",
              "    display: none;\n",
              "    fill: var(--fill-color);\n",
              "    height: 32px;\n",
              "    padding: 0;\n",
              "    width: 32px;\n",
              "  }\n",
              "\n",
              "  .colab-df-quickchart:hover {\n",
              "    background-color: var(--hover-bg-color);\n",
              "    box-shadow: 0 1px 2px rgba(60, 64, 67, 0.3), 0 1px 3px 1px rgba(60, 64, 67, 0.15);\n",
              "    fill: var(--button-hover-fill-color);\n",
              "  }\n",
              "\n",
              "  .colab-df-quickchart-complete:disabled,\n",
              "  .colab-df-quickchart-complete:disabled:hover {\n",
              "    background-color: var(--disabled-bg-color);\n",
              "    fill: var(--disabled-fill-color);\n",
              "    box-shadow: none;\n",
              "  }\n",
              "\n",
              "  .colab-df-spinner {\n",
              "    border: 2px solid var(--fill-color);\n",
              "    border-color: transparent;\n",
              "    border-bottom-color: var(--fill-color);\n",
              "    animation:\n",
              "      spin 1s steps(1) infinite;\n",
              "  }\n",
              "\n",
              "  @keyframes spin {\n",
              "    0% {\n",
              "      border-color: transparent;\n",
              "      border-bottom-color: var(--fill-color);\n",
              "      border-left-color: var(--fill-color);\n",
              "    }\n",
              "    20% {\n",
              "      border-color: transparent;\n",
              "      border-left-color: var(--fill-color);\n",
              "      border-top-color: var(--fill-color);\n",
              "    }\n",
              "    30% {\n",
              "      border-color: transparent;\n",
              "      border-left-color: var(--fill-color);\n",
              "      border-top-color: var(--fill-color);\n",
              "      border-right-color: var(--fill-color);\n",
              "    }\n",
              "    40% {\n",
              "      border-color: transparent;\n",
              "      border-right-color: var(--fill-color);\n",
              "      border-top-color: var(--fill-color);\n",
              "    }\n",
              "    60% {\n",
              "      border-color: transparent;\n",
              "      border-right-color: var(--fill-color);\n",
              "    }\n",
              "    80% {\n",
              "      border-color: transparent;\n",
              "      border-right-color: var(--fill-color);\n",
              "      border-bottom-color: var(--fill-color);\n",
              "    }\n",
              "    90% {\n",
              "      border-color: transparent;\n",
              "      border-bottom-color: var(--fill-color);\n",
              "    }\n",
              "  }\n",
              "</style>\n",
              "\n",
              "      <script>\n",
              "        async function quickchart(key) {\n",
              "          const quickchartButtonEl =\n",
              "            document.querySelector('#' + key + ' button');\n",
              "          quickchartButtonEl.disabled = true;  // To prevent multiple clicks.\n",
              "          quickchartButtonEl.classList.add('colab-df-spinner');\n",
              "          try {\n",
              "            const charts = await google.colab.kernel.invokeFunction(\n",
              "                'suggestCharts', [key], {});\n",
              "          } catch (error) {\n",
              "            console.error('Error during call to suggestCharts:', error);\n",
              "          }\n",
              "          quickchartButtonEl.classList.remove('colab-df-spinner');\n",
              "          quickchartButtonEl.classList.add('colab-df-quickchart-complete');\n",
              "        }\n",
              "        (() => {\n",
              "          let quickchartButtonEl =\n",
              "            document.querySelector('#df-d8749c67-75ce-4222-b84b-046303428e51 button');\n",
              "          quickchartButtonEl.style.display =\n",
              "            google.colab.kernel.accessAllowed ? 'block' : 'none';\n",
              "        })();\n",
              "      </script>\n",
              "    </div>\n",
              "    </div>\n",
              "  </div>\n"
            ],
            "application/vnd.google.colaboratory.intrinsic+json": {
              "type": "dataframe",
              "variable_name": "df",
              "summary": "{\n  \"name\": \"df\",\n  \"rows\": 4,\n  \"fields\": [\n    {\n      \"column\": \"\\u0420\\u043e\\u0437\\u043c\\u0456\\u0440 \\u043c\\u0430\\u0441\\u0438\\u0432\\u0443\",\n      \"properties\": {\n        \"dtype\": \"number\",\n        \"std\": 226347,\n        \"min\": 10000,\n        \"max\": 500000,\n        \"num_unique_values\": 4,\n        \"samples\": [\n          50000,\n          500000,\n          10000\n        ],\n        \"semantic_type\": \"\",\n        \"description\": \"\"\n      }\n    },\n    {\n      \"column\": \"\\u0420\\u0430\\u043d\\u0434\\u043e\\u043c\\u0456\\u0437\\u043e\\u0432\\u0430\\u043d\\u0438\\u0439 QuickSort (\\u0441\\u0435\\u043a)\",\n      \"properties\": {\n        \"dtype\": \"number\",\n        \"std\": 1.1168848937756746,\n        \"min\": 0.0430593914000383,\n        \"max\": 2.4081435273999885,\n        \"num_unique_values\": 4,\n        \"samples\": [\n          0.24510321279999517,\n          2.4081435273999885,\n          0.0430593914000383\n        ],\n        \"semantic_type\": \"\",\n        \"description\": \"\"\n      }\n    },\n    {\n      \"column\": \"\\u0414\\u0435\\u0442\\u0435\\u0440\\u043c\\u0456\\u043d\\u043e\\u0432\\u0430\\u043d\\u0438\\u0439 QuickSort (\\u0441\\u0435\\u043a)\",\n      \"properties\": {\n        \"dtype\": \"number\",\n        \"std\": 1.0038323701302028,\n        \"min\": 0.04738225779997265,\n        \"max\": 2.1394616298000075,\n        \"num_unique_values\": 4,\n        \"samples\": [\n          0.12546150419998411,\n          2.1394616298000075,\n          0.04738225779997265\n        ],\n        \"semantic_type\": \"\",\n        \"description\": \"\"\n      }\n    }\n  ]\n}"
            }
          },
          "metadata": {},
          "execution_count": 12
        }
      ]
    },
    {
      "cell_type": "code",
      "source": [
        "print(\"🔎 Висновок:\")\n",
        "print(\"Детермінований QuickSort демонструє стабільні результати на малих масивах,\")\n",
        "print(\"але рандомізований варіант дозволяє уникати найгірших випадків на великих даних.\")\n",
        "print(\"Рандомізація забезпечує кращу середню продуктивність при масштабуванні.\")\n"
      ],
      "metadata": {
        "colab": {
          "base_uri": "https://localhost:8080/"
        },
        "id": "FoTTaVUOwa0v",
        "outputId": "e9768364-c3ca-478d-e9a1-6afd4b6054bc"
      },
      "execution_count": 13,
      "outputs": [
        {
          "output_type": "stream",
          "name": "stdout",
          "text": [
            "🔎 Висновок:\n",
            "Детермінований QuickSort демонструє стабільні результати на малих масивах,\n",
            "але рандомізований варіант дозволяє уникати найгірших випадків на великих даних.\n",
            "Рандомізація забезпечує кращу середню продуктивність при масштабуванні.\n"
          ]
        }
      ]
    },
    {
      "cell_type": "markdown",
      "source": [
        "# Завдання 2. Складання розкладу занять за допомогою жадібного алгоритму"
      ],
      "metadata": {
        "id": "g9LZoBHrwXkS"
      }
    },
    {
      "cell_type": "code",
      "source": [
        "# Визначення класу Teacher\n",
        "class Teacher:\n",
        "    def __init__(self, first_name, last_name, age, email, can_teach_subjects):\n",
        "        self.first_name = first_name\n",
        "        self.last_name = last_name\n",
        "        self.age = age\n",
        "        self.email = email\n",
        "        self.can_teach_subjects = set(can_teach_subjects)\n",
        "        self.assigned_subjects = set()\n",
        "\n",
        "    def __repr__(self):\n",
        "        return f\"{self.first_name} {self.last_name} ({self.age})\"\n"
      ],
      "metadata": {
        "id": "v9kKStuXvElm"
      },
      "execution_count": 14,
      "outputs": []
    },
    {
      "cell_type": "code",
      "source": [
        "# Жадібний алгоритм покриття множини\n",
        "def create_schedule(subjects, teachers):\n",
        "    uncovered = set(subjects)\n",
        "    schedule = []\n",
        "\n",
        "    while uncovered:\n",
        "        # Знаходимо викладача, який може покрити найбільше ще не покритих предметів\n",
        "        best_teacher = None\n",
        "        best_cover = set()\n",
        "\n",
        "        for teacher in teachers:\n",
        "            cover = teacher.can_teach_subjects & uncovered\n",
        "            if not cover:\n",
        "                continue\n",
        "            if (best_teacher is None or\n",
        "                len(cover) > len(best_cover) or\n",
        "                (len(cover) == len(best_cover) and teacher.age < best_teacher.age)):\n",
        "                best_teacher = teacher\n",
        "                best_cover = cover\n",
        "\n",
        "        if not best_teacher:\n",
        "            return None  # Неможливо покрити всі предмети\n",
        "\n",
        "        best_teacher.assigned_subjects = best_cover\n",
        "        schedule.append(best_teacher)\n",
        "        uncovered -= best_cover\n",
        "\n",
        "    return schedule\n"
      ],
      "metadata": {
        "id": "IGlFzqKfwsVj"
      },
      "execution_count": 15,
      "outputs": []
    },
    {
      "cell_type": "code",
      "source": [
        "# --------------------------\n",
        "# Основний блок виконання\n",
        "# --------------------------\n",
        "if __name__ == '__main__':\n",
        "    # Множина предметів\n",
        "    subjects = {'Математика', 'Фізика', 'Хімія', 'Інформатика', 'Біологія'}\n",
        "\n",
        "    # Створення списку викладачів\n",
        "    teachers = [\n",
        "        Teacher(\"Олександр\", \"Іваненко\", 45, \"o.ivanenko@example.com\", {'Математика', 'Фізика'}),\n",
        "        Teacher(\"Марія\", \"Петренко\", 38, \"m.petrenko@example.com\", {'Хімія'}),\n",
        "        Teacher(\"Сергій\", \"Коваленко\", 50, \"s.kovalenko@example.com\", {'Інформатика', 'Математика'}),\n",
        "        Teacher(\"Наталія\", \"Шевченко\", 29, \"n.shevchenko@example.com\", {'Біологія', 'Хімія'}),\n",
        "        Teacher(\"Дмитро\", \"Бондаренко\", 35, \"d.bondarenko@example.com\", {'Фізика', 'Інформатика'}),\n",
        "        Teacher(\"Олена\", \"Гриценко\", 42, \"o.grytsenko@example.com\", {'Біологія'}),\n",
        "    ]\n",
        "\n",
        "    # Виклик функції створення розкладу\n",
        "    schedule = create_schedule(subjects, teachers)\n",
        "\n",
        "    # Виведення розкладу\n",
        "    if schedule:\n",
        "        print(\"📚 Розклад занять:\")\n",
        "        for teacher in schedule:\n",
        "            print(f\"{teacher.first_name} {teacher.last_name}, {teacher.age} років, email: {teacher.email}\")\n",
        "            print(f\"   Викладає предмети: {', '.join(teacher.assigned_subjects)}\\n\")\n",
        "    else:\n",
        "        print(\"❌ Неможливо покрити всі предмети наявними викладачами.\")"
      ],
      "metadata": {
        "colab": {
          "base_uri": "https://localhost:8080/"
        },
        "id": "NexfBv0Cwsrm",
        "outputId": "d5d7471c-5459-4f2e-8668-6ab5b1aadd15"
      },
      "execution_count": 16,
      "outputs": [
        {
          "output_type": "stream",
          "name": "stdout",
          "text": [
            "📚 Розклад занять:\n",
            "Наталія Шевченко, 29 років, email: n.shevchenko@example.com\n",
            "   Викладає предмети: Хімія, Біологія\n",
            "\n",
            "Дмитро Бондаренко, 35 років, email: d.bondarenko@example.com\n",
            "   Викладає предмети: Фізика, Інформатика\n",
            "\n",
            "Олександр Іваненко, 45 років, email: o.ivanenko@example.com\n",
            "   Викладає предмети: Математика\n",
            "\n"
          ]
        }
      ]
    },
    {
      "cell_type": "code",
      "source": [],
      "metadata": {
        "id": "CJqBrKQ7wu9k"
      },
      "execution_count": null,
      "outputs": []
    }
  ]
}