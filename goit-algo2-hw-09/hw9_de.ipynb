{
  "nbformat": 4,
  "nbformat_minor": 0,
  "metadata": {
    "colab": {
      "provenance": []
    },
    "kernelspec": {
      "name": "python3",
      "display_name": "Python 3"
    },
    "language_info": {
      "name": "python"
    }
  },
  "cells": [
    {
      "cell_type": "code",
      "execution_count": 1,
      "metadata": {
        "id": "lxuJxHRTnvF2"
      },
      "outputs": [],
      "source": [
        "import random\n",
        "import math\n",
        "import pandas as pd"
      ]
    },
    {
      "cell_type": "code",
      "source": [
        "# Визначення функції Сфери\n",
        "def sphere_function(x):\n",
        "    return sum(xi ** 2 for xi in x)\n",
        "\n",
        "# Hill Climbing\n",
        "def hill_climbing(func, bounds, iterations=1000, epsilon=1e-6):\n",
        "    current = [random.uniform(b[0], b[1]) for b in bounds]\n",
        "    current_value = func(current)\n",
        "\n",
        "    for _ in range(iterations):\n",
        "        candidate = [min(max(current[i] + random.uniform(-0.1, 0.1), bounds[i][0]), bounds[i][1]) for i in range(len(bounds))]\n",
        "        candidate_value = func(candidate)\n",
        "\n",
        "        if abs(candidate_value - current_value) < epsilon:\n",
        "            break\n",
        "\n",
        "        if candidate_value < current_value:\n",
        "            current, current_value = candidate, candidate_value\n",
        "\n",
        "    return current, current_value"
      ],
      "metadata": {
        "id": "-69Mu2v3oD7c"
      },
      "execution_count": 2,
      "outputs": []
    },
    {
      "cell_type": "code",
      "source": [
        "# Random Local Search\n",
        "def random_local_search(func, bounds, iterations=1000, epsilon=1e-6):\n",
        "    best = [random.uniform(b[0], b[1]) for b in bounds]\n",
        "    best_value = func(best)\n",
        "\n",
        "    for _ in range(iterations):\n",
        "        candidate = [random.uniform(b[0], b[1]) for b in bounds]\n",
        "        candidate_value = func(candidate)\n",
        "\n",
        "        if abs(candidate_value - best_value) < epsilon:\n",
        "            break\n",
        "\n",
        "        if candidate_value < best_value:\n",
        "            best, best_value = candidate, candidate_value\n",
        "\n",
        "    return best, best_value\n"
      ],
      "metadata": {
        "id": "1tZ-eXvKoGGd"
      },
      "execution_count": 3,
      "outputs": []
    },
    {
      "cell_type": "code",
      "source": [
        "# Simulated Annealing\n",
        "def simulated_annealing(func, bounds, iterations=1000, temp=1000, cooling_rate=0.95, epsilon=1e-6):\n",
        "    current = [random.uniform(b[0], b[1]) for b in bounds]\n",
        "    current_value = func(current)\n",
        "\n",
        "    for _ in range(iterations):\n",
        "        candidate = [min(max(current[i] + random.uniform(-0.5, 0.5), bounds[i][0]), bounds[i][1]) for i in range(len(bounds))]\n",
        "        candidate_value = func(candidate)\n",
        "\n",
        "        delta = candidate_value - current_value\n",
        "        if delta < 0 or random.random() < math.exp(-delta / temp):\n",
        "            current, current_value = candidate, candidate_value\n",
        "\n",
        "        temp *= cooling_rate\n",
        "        if temp < epsilon:\n",
        "            break\n",
        "\n",
        "    return current, current_value"
      ],
      "metadata": {
        "id": "qpG11tyaoHy1"
      },
      "execution_count": 4,
      "outputs": []
    },
    {
      "cell_type": "code",
      "source": [
        "# Межі функції\n",
        "bounds = [(-5, 5), (-5, 5)]\n",
        "\n",
        "# Запуск усіх трьох алгоритмів\n",
        "hc_solution, hc_value = hill_climbing(sphere_function, bounds)\n",
        "rls_solution, rls_value = random_local_search(sphere_function, bounds)\n",
        "sa_solution, sa_value = simulated_annealing(sphere_function, bounds)\n",
        "\n",
        "# Виведення результатів\n",
        "results = {\n",
        "    \"Hill Climbing\": [hc_solution, hc_value],\n",
        "    \"Random Local Search\": [rls_solution, rls_value],\n",
        "    \"Simulated Annealing\": [sa_solution, sa_value],\n",
        "}\n",
        "\n",
        "df = pd.DataFrame(results, index=[\"Розв'язок\", \"Значення\"]).T\n",
        "print(df)"
      ],
      "metadata": {
        "colab": {
          "base_uri": "https://localhost:8080/"
        },
        "id": "L8h2jaiQoKht",
        "outputId": "12883f45-d87f-4f80-fb1e-849df52ca8ea"
      },
      "execution_count": 5,
      "outputs": [
        {
          "output_type": "stream",
          "name": "stdout",
          "text": [
            "                                                             Розв'язок  \\\n",
            "Hill Climbing        [-0.0009489246636791154, -0.00028130472985191113]   \n",
            "Random Local Search      [-0.004960424688124299, 0.038167064548460417]   \n",
            "Simulated Annealing        [0.04702526041931132, 0.022825328579473836]   \n",
            "\n",
            "                     Значення  \n",
            "Hill Climbing        0.000001  \n",
            "Random Local Search  0.001481  \n",
            "Simulated Annealing  0.002732  \n"
          ]
        }
      ]
    },
    {
      "cell_type": "code",
      "source": [],
      "metadata": {
        "id": "1hnD9SFQoMJo"
      },
      "execution_count": null,
      "outputs": []
    }
  ]
}