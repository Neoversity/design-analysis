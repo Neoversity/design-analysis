{
  "nbformat": 4,
  "nbformat_minor": 0,
  "metadata": {
    "colab": {
      "provenance": []
    },
    "kernelspec": {
      "name": "python3",
      "display_name": "Python 3"
    },
    "language_info": {
      "name": "python"
    }
  },
  "cells": [
    {
      "cell_type": "code",
      "source": [
        "class TrieNode:\n",
        "    def __init__(self):\n",
        "        self.children = {}\n",
        "        self.is_end = False\n",
        "        self.value = None\n",
        "\n",
        "class Trie:\n",
        "    def __init__(self):\n",
        "        self.root = TrieNode()\n",
        "\n",
        "    def put(self, word, value):\n",
        "        node = self.root\n",
        "        for char in word:\n",
        "            if char not in node.children:\n",
        "                node.children[char] = TrieNode()\n",
        "            node = node.children[char]\n",
        "        node.is_end = True\n",
        "        node.value = value\n",
        "\n",
        "    def keys(self):\n",
        "        result = []\n",
        "        self._collect(self.root, \"\", result)\n",
        "        return result\n",
        "\n",
        "    def keys_with_prefix(self, prefix):\n",
        "        result = []\n",
        "        node = self.root\n",
        "        for char in prefix:\n",
        "            if char not in node.children:\n",
        "                return []\n",
        "            node = node.children[char]\n",
        "        self._collect(node, prefix, result)\n",
        "        return result\n",
        "\n",
        "    def _collect(self, node, prefix, result):\n",
        "        if node.is_end:\n",
        "            result.append(prefix)\n",
        "        for char, child in node.children.items():\n",
        "            self._collect(child, prefix + char, result)\n"
      ],
      "metadata": {
        "id": "OSjLcBqAmsJx"
      },
      "execution_count": 3,
      "outputs": []
    },
    {
      "cell_type": "code",
      "execution_count": 5,
      "metadata": {
        "id": "nytkeyQ3l4La"
      },
      "outputs": [],
      "source": [
        "class Homework(Trie):\n",
        "    def count_words_with_suffix(self, pattern) -> int:\n",
        "        # Перевірка валідності\n",
        "        if not isinstance(pattern, str):\n",
        "            raise ValueError(\"Параметр повинен бути рядком (str)\")\n",
        "\n",
        "        # Зворотний перебір усіх ключів та перевірка суфікса\n",
        "        count = 0\n",
        "        for word in self.keys():\n",
        "            if word.endswith(pattern):\n",
        "                count += 1\n",
        "        return count\n",
        "\n",
        "    def has_prefix(self, prefix) -> bool:\n",
        "        if not isinstance(prefix, str):\n",
        "            raise ValueError(\"Префікс повинен бути рядком (str)\")\n",
        "\n",
        "        # Використання стандартного методу keys_with_prefix з базового Trie\n",
        "        return any(self.keys_with_prefix(prefix))\n"
      ]
    },
    {
      "cell_type": "code",
      "source": [
        "if __name__ == \"__main__\":\n",
        "    trie = Homework()\n",
        "    words = [\"apple\", \"application\", \"banana\", \"cat\"]\n",
        "    for i, word in enumerate(words):\n",
        "        trie.put(word, i)\n",
        "\n",
        "    # Перевірка суфіксів\n",
        "    assert trie.count_words_with_suffix(\"e\") == 1      # \"apple\"\n",
        "    assert trie.count_words_with_suffix(\"ion\") == 1    # \"application\"\n",
        "    assert trie.count_words_with_suffix(\"a\") == 1      # \"banana\"\n",
        "    assert trie.count_words_with_suffix(\"at\") == 1     # \"cat\"\n",
        "\n",
        "    # Перевірка префіксів\n",
        "    assert trie.has_prefix(\"app\") == True              # \"apple\", \"application\"\n",
        "    assert trie.has_prefix(\"bat\") == False\n",
        "    assert trie.has_prefix(\"ban\") == True              # \"banana\"\n",
        "    assert trie.has_prefix(\"ca\") == True               # \"cat\"\n",
        "\n",
        "    print(\"✅ Усі тести пройдено успішно.\")\n"
      ],
      "metadata": {
        "colab": {
          "base_uri": "https://localhost:8080/"
        },
        "id": "S44NnWEml6-r",
        "outputId": "209e60ab-ff39-4127-a1a9-5b8a9de8e542"
      },
      "execution_count": 6,
      "outputs": [
        {
          "output_type": "stream",
          "name": "stdout",
          "text": [
            "✅ Усі тести пройдено успішно.\n"
          ]
        }
      ]
    },
    {
      "cell_type": "code",
      "source": [],
      "metadata": {
        "id": "wGwh6pptnBtJ"
      },
      "execution_count": null,
      "outputs": []
    }
  ]
}