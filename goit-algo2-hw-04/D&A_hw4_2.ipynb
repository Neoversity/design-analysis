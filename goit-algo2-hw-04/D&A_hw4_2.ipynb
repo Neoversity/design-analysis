{
  "nbformat": 4,
  "nbformat_minor": 0,
  "metadata": {
    "colab": {
      "provenance": []
    },
    "kernelspec": {
      "name": "python3",
      "display_name": "Python 3"
    },
    "language_info": {
      "name": "python"
    }
  },
  "cells": [
    {
      "cell_type": "code",
      "execution_count": 1,
      "metadata": {
        "id": "asqRO1v3nfMv"
      },
      "outputs": [],
      "source": [
        "# 🔧 Реалізація базового Trie\n",
        "class TrieNode:\n",
        "    def __init__(self):\n",
        "        self.children = {}\n",
        "        self.is_end = False\n",
        "\n",
        "class Trie:\n",
        "    def __init__(self):\n",
        "        self.root = TrieNode()\n",
        "\n",
        "    def insert(self, word):\n",
        "        node = self.root\n",
        "        for ch in word:\n",
        "            if ch not in node.children:\n",
        "                node.children[ch] = TrieNode()\n",
        "            node = node.children[ch]\n",
        "        node.is_end = True\n"
      ]
    },
    {
      "cell_type": "code",
      "source": [
        "# ✅ Реалізація LongestCommonWord\n",
        "class LongestCommonWord(Trie):\n",
        "\n",
        "    def find_longest_common_word(self, strings) -> str:\n",
        "        if not isinstance(strings, list) or not all(isinstance(s, str) for s in strings):\n",
        "            raise ValueError(\"Вхідні дані мають бути списком рядків\")\n",
        "\n",
        "        if not strings:\n",
        "            return \"\"\n",
        "\n",
        "        # Вставляємо всі слова у Trie\n",
        "        for word in strings:\n",
        "            self.insert(word)\n",
        "\n",
        "        # Ідемо по символах першого слова\n",
        "        node = self.root\n",
        "        prefix = \"\"\n",
        "\n",
        "        for ch in strings[0]:\n",
        "            # Має бути рівно один нащадок і не кінець слова\n",
        "            if ch in node.children and len(node.children) == 1 and not node.is_end:\n",
        "                prefix += ch\n",
        "                node = node.children[ch]\n",
        "            else:\n",
        "                break\n",
        "\n",
        "        return prefix\n"
      ],
      "metadata": {
        "id": "vKQnTxTQnoRG"
      },
      "execution_count": 2,
      "outputs": []
    },
    {
      "cell_type": "code",
      "source": [
        "# ✅ Тести\n",
        "if __name__ == \"__main__\":\n",
        "    trie = LongestCommonWord()\n",
        "    strings = [\"flower\", \"flow\", \"flight\"]\n",
        "    assert trie.find_longest_common_word(strings) == \"fl\"\n",
        "\n",
        "    trie = LongestCommonWord()\n",
        "    strings = [\"interspecies\", \"interstellar\", \"interstate\"]\n",
        "    assert trie.find_longest_common_word(strings) == \"inters\"\n",
        "\n",
        "    trie = LongestCommonWord()\n",
        "    strings = [\"dog\", \"racecar\", \"car\"]\n",
        "    assert trie.find_longest_common_word(strings) == \"\"\n",
        "\n",
        "    trie = LongestCommonWord()\n",
        "    strings = []\n",
        "    assert trie.find_longest_common_word(strings) == \"\"\n",
        "\n",
        "    print(\"✅ Усі тести пройдено успішно.\")\n"
      ],
      "metadata": {
        "colab": {
          "base_uri": "https://localhost:8080/"
        },
        "id": "DMLpm2EnnsPH",
        "outputId": "1e2b8c70-8163-4ce0-bf6c-dea0dfcd929f"
      },
      "execution_count": 3,
      "outputs": [
        {
          "output_type": "stream",
          "name": "stdout",
          "text": [
            "✅ Усі тести пройдено успішно.\n"
          ]
        }
      ]
    },
    {
      "cell_type": "code",
      "source": [],
      "metadata": {
        "id": "mh4qzNXjnutv"
      },
      "execution_count": null,
      "outputs": []
    }
  ]
}