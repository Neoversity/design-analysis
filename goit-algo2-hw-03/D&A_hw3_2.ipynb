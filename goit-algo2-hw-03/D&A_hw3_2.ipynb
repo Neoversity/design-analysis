{
  "nbformat": 4,
  "nbformat_minor": 0,
  "metadata": {
    "colab": {
      "provenance": []
    },
    "kernelspec": {
      "name": "python3",
      "display_name": "Python 3"
    },
    "language_info": {
      "name": "python"
    }
  },
  "cells": [
    {
      "cell_type": "code",
      "source": [
        "!pip install BTrees\n"
      ],
      "metadata": {
        "colab": {
          "base_uri": "https://localhost:8080/"
        },
        "id": "VLrdStUeeIqb",
        "outputId": "da953f8a-29ed-4686-9b91-b38bd2419924"
      },
      "execution_count": 2,
      "outputs": [
        {
          "output_type": "stream",
          "name": "stdout",
          "text": [
            "Collecting BTrees\n",
            "  Downloading BTrees-6.1-cp311-cp311-manylinux_2_17_x86_64.manylinux2014_x86_64.whl.metadata (20 kB)\n",
            "Collecting persistent>=4.1.0 (from BTrees)\n",
            "  Downloading persistent-6.1.1-cp311-cp311-manylinux_2_5_x86_64.manylinux1_x86_64.manylinux_2_17_x86_64.manylinux2014_x86_64.whl.metadata (21 kB)\n",
            "Collecting zope.interface>=5.0.0 (from BTrees)\n",
            "  Downloading zope.interface-7.2-cp311-cp311-manylinux_2_5_x86_64.manylinux1_x86_64.manylinux_2_17_x86_64.manylinux2014_x86_64.whl.metadata (44 kB)\n",
            "\u001b[2K     \u001b[90m━━━━━━━━━━━━━━━━━━━━━━━━━━━━━━━━━━━━━━━━\u001b[0m \u001b[32m44.4/44.4 kB\u001b[0m \u001b[31m2.0 MB/s\u001b[0m eta \u001b[36m0:00:00\u001b[0m\n",
            "\u001b[?25hCollecting zope.deferredimport (from persistent>=4.1.0->BTrees)\n",
            "  Downloading zope.deferredimport-5.0-py3-none-any.whl.metadata (5.1 kB)\n",
            "Requirement already satisfied: cffi in /usr/local/lib/python3.11/dist-packages (from persistent>=4.1.0->BTrees) (1.17.1)\n",
            "Requirement already satisfied: setuptools in /usr/local/lib/python3.11/dist-packages (from zope.interface>=5.0.0->BTrees) (75.2.0)\n",
            "Requirement already satisfied: pycparser in /usr/local/lib/python3.11/dist-packages (from cffi->persistent>=4.1.0->BTrees) (2.22)\n",
            "Collecting zope.proxy (from zope.deferredimport->persistent>=4.1.0->BTrees)\n",
            "  Downloading zope.proxy-6.1-cp311-cp311-manylinux_2_5_x86_64.manylinux1_x86_64.manylinux_2_17_x86_64.manylinux2014_x86_64.whl.metadata (11 kB)\n",
            "Downloading BTrees-6.1-cp311-cp311-manylinux_2_17_x86_64.manylinux2014_x86_64.whl (3.8 MB)\n",
            "\u001b[2K   \u001b[90m━━━━━━━━━━━━━━━━━━━━━━━━━━━━━━━━━━━━━━━━\u001b[0m \u001b[32m3.8/3.8 MB\u001b[0m \u001b[31m39.2 MB/s\u001b[0m eta \u001b[36m0:00:00\u001b[0m\n",
            "\u001b[?25hDownloading persistent-6.1.1-cp311-cp311-manylinux_2_5_x86_64.manylinux1_x86_64.manylinux_2_17_x86_64.manylinux2014_x86_64.whl (232 kB)\n",
            "\u001b[2K   \u001b[90m━━━━━━━━━━━━━━━━━━━━━━━━━━━━━━━━━━━━━━━━\u001b[0m \u001b[32m232.9/232.9 kB\u001b[0m \u001b[31m22.1 MB/s\u001b[0m eta \u001b[36m0:00:00\u001b[0m\n",
            "\u001b[?25hDownloading zope.interface-7.2-cp311-cp311-manylinux_2_5_x86_64.manylinux1_x86_64.manylinux_2_17_x86_64.manylinux2014_x86_64.whl (259 kB)\n",
            "\u001b[2K   \u001b[90m━━━━━━━━━━━━━━━━━━━━━━━━━━━━━━━━━━━━━━━━\u001b[0m \u001b[32m259.8/259.8 kB\u001b[0m \u001b[31m26.4 MB/s\u001b[0m eta \u001b[36m0:00:00\u001b[0m\n",
            "\u001b[?25hDownloading zope.deferredimport-5.0-py3-none-any.whl (10.0 kB)\n",
            "Downloading zope.proxy-6.1-cp311-cp311-manylinux_2_5_x86_64.manylinux1_x86_64.manylinux_2_17_x86_64.manylinux2014_x86_64.whl (71 kB)\n",
            "\u001b[2K   \u001b[90m━━━━━━━━━━━━━━━━━━━━━━━━━━━━━━━━━━━━━━━━\u001b[0m \u001b[32m71.8/71.8 kB\u001b[0m \u001b[31m7.5 MB/s\u001b[0m eta \u001b[36m0:00:00\u001b[0m\n",
            "\u001b[?25hInstalling collected packages: zope.interface, zope.proxy, zope.deferredimport, persistent, BTrees\n",
            "Successfully installed BTrees-6.1 persistent-6.1.1 zope.deferredimport-5.0 zope.interface-7.2 zope.proxy-6.1\n"
          ]
        }
      ]
    },
    {
      "cell_type": "code",
      "execution_count": 9,
      "metadata": {
        "id": "dxTjr1c3d8WW"
      },
      "outputs": [],
      "source": [
        "import csv\n",
        "import timeit\n",
        "from BTrees.OOBTree import OOBTree\n",
        "from collections import defaultdict\n"
      ]
    },
    {
      "cell_type": "code",
      "source": [
        "tree_by_price = OOBTree()\n",
        "dict_data = {}\n",
        "\n",
        "def add_item_to_tree(tree, item):\n",
        "    price = float(item[\"Price\"])\n",
        "    if price not in tree:\n",
        "        tree[price] = []\n",
        "    tree[price].append({\n",
        "        \"ID\": item[\"ID\"],\n",
        "        \"Name\": item[\"Name\"],\n",
        "        \"Category\": item[\"Category\"]\n",
        "    })\n",
        "\n",
        "def add_item_to_dict(d, item):\n",
        "    d[item[\"ID\"]] = {\n",
        "        \"Name\": item[\"Name\"],\n",
        "        \"Category\": item[\"Category\"],\n",
        "        \"Price\": float(item[\"Price\"])\n",
        "    }\n"
      ],
      "metadata": {
        "id": "UST_vRQGeET6"
      },
      "execution_count": 10,
      "outputs": []
    },
    {
      "cell_type": "code",
      "source": [
        "tree = OOBTree()\n",
        "dict_data = {}\n",
        "\n",
        "with open(\"/content/sample_data/generated_items_data.csv\", newline='', encoding='utf-8') as csvfile:\n",
        "    reader = csv.DictReader(csvfile)\n",
        "    for row in reader:\n",
        "        add_item_to_tree(tree_by_price, row)\n",
        "        add_item_to_dict(dict_data, row)\n",
        "\n",
        "print(f\"✅ Завантажено товарів: {len(dict_data)}\")\n"
      ],
      "metadata": {
        "colab": {
          "base_uri": "https://localhost:8080/"
        },
        "id": "lUqbJ2OHeFcY",
        "outputId": "ec46ed04-0405-4235-ec51-02a1ff011b6e"
      },
      "execution_count": 11,
      "outputs": [
        {
          "output_type": "stream",
          "name": "stdout",
          "text": [
            "✅ Завантажено товарів: 100000\n"
          ]
        }
      ]
    },
    {
      "cell_type": "code",
      "source": [
        "def range_query_tree(tree, min_price, max_price):\n",
        "    result = []\n",
        "    for price, items in tree.items(min_price, max_price):\n",
        "        result.extend(items)\n",
        "    return result\n",
        "\n",
        "def range_query_dict(d, min_price, max_price):\n",
        "    return [\n",
        "        v for v in d.values()\n",
        "        if min_price <= v[\"Price\"] <= max_price\n",
        "    ]\n"
      ],
      "metadata": {
        "id": "zowmxbspfC0_"
      },
      "execution_count": 12,
      "outputs": []
    },
    {
      "cell_type": "code",
      "source": [
        "min_price = 50\n",
        "max_price = 100\n",
        "\n",
        "# 100 запитів до OOBTree\n",
        "tree_time = timeit.timeit(lambda: range_query_tree(tree_by_price, min_price, max_price), number=100)\n",
        "\n",
        "# 100 запитів до dict\n",
        "dict_time = timeit.timeit(lambda: range_query_dict(dict_data, min_price, max_price), number=100)\n",
        "\n",
        "# Вивід результатів\n",
        "print(f\"Total range_query time for OOBTree: {tree_time:.6f} seconds\")\n",
        "print(f\"Total range_query time for Dict:    {dict_time:.6f} seconds\")\n"
      ],
      "metadata": {
        "colab": {
          "base_uri": "https://localhost:8080/"
        },
        "id": "UJruw1OCfGX0",
        "outputId": "46b81440-caf9-47d3-c7eb-98079a5f9484"
      },
      "execution_count": 13,
      "outputs": [
        {
          "output_type": "stream",
          "name": "stdout",
          "text": [
            "Total range_query time for OOBTree: 0.100760 seconds\n",
            "Total range_query time for Dict:    3.651136 seconds\n"
          ]
        }
      ]
    },
    {
      "cell_type": "markdown",
      "source": [
        "У ході виконання завдання було реалізовано дві структури для зберігання товарів — OOBTree (з ключем Price) та стандартний dict (з ключем ID). Для кожної структури було реалізовано діапазонні запити з метою пошуку товарів у заданому ціновому діапазоні.\n",
        "\n",
        "Проведене тестування показало:\n",
        "\n",
        "  - OOBTree значно ефективніший при виконанні діапазонних запитів завдяки використанню методу .items(min_price, max_price), який забезпечує доступ лише до релевантної частини даних.\n",
        "\n",
        "  - Стандартний dict, який не підтримує індексацію, виконує діапазонний запит через повний лінійний перебір усіх елементів, що значно знижує продуктивність при великих обсягах даних.\n",
        "\n",
        "  - Замір часу для 100 запитів підтвердив очікуване: OOBTree продемонстрував швидший час виконання у порівнянні з dict.\n",
        "\n",
        "Таким чином, OOBTree є кращим вибором для задач, де критичне значення має ефективне виконання діапазонних запитів за числовим ключем."
      ],
      "metadata": {
        "id": "flWhlNCWgw2r"
      }
    },
    {
      "cell_type": "code",
      "source": [],
      "metadata": {
        "id": "ZvuAuoYQfIVh"
      },
      "execution_count": null,
      "outputs": []
    }
  ]
}