{
  "nbformat": 4,
  "nbformat_minor": 0,
  "metadata": {
    "colab": {
      "provenance": []
    },
    "kernelspec": {
      "name": "python3",
      "display_name": "Python 3"
    },
    "language_info": {
      "name": "python"
    }
  },
  "cells": [
    {
      "cell_type": "code",
      "execution_count": 1,
      "metadata": {
        "colab": {
          "base_uri": "https://localhost:8080/"
        },
        "id": "EMow0Rg9a7QR",
        "outputId": "d79ef8b2-a199-4cba-be15-7528ce3e2f87"
      },
      "outputs": [
        {
          "output_type": "stream",
          "name": "stdout",
          "text": [
            "Загальний максимальний потік: 115\n",
            "\n",
            "Фактичні потоки від терміналів до магазинів:\n",
            "Термінал 1 → Магазин 1: 15\n",
            "Термінал 1 → Магазин 2: 10\n",
            "Термінал 1 → Магазин 4: 15\n",
            "Термінал 1 → Магазин 5: 10\n",
            "Термінал 1 → Магазин 6: 5\n",
            "Термінал 1 → Магазин 7: 20\n",
            "Термінал 1 → Магазин 8: 10\n",
            "Термінал 2 → Магазин 7: 20\n",
            "Термінал 2 → Магазин 8: 10\n",
            "Термінал 2 → Магазин 10: 20\n",
            "Термінал 2 → Магазин 11: 10\n",
            "Термінал 2 → Магазин 4: 15\n",
            "Термінал 2 → Магазин 5: 10\n",
            "Термінал 2 → Магазин 6: 5\n"
          ]
        }
      ],
      "source": [
        "import networkx as nx\n",
        "\n",
        "# Створення орієнтованого графа\n",
        "G = nx.DiGraph()\n",
        "\n",
        "# Додаємо ребра з пропускною здатністю\n",
        "edges = [\n",
        "    (\"Термінал 1\", \"Склад 1\", 25),\n",
        "    (\"Термінал 1\", \"Склад 2\", 20),\n",
        "    (\"Термінал 1\", \"Склад 3\", 15),\n",
        "    (\"Термінал 2\", \"Склад 3\", 15),\n",
        "    (\"Термінал 2\", \"Склад 4\", 30),\n",
        "    (\"Термінал 2\", \"Склад 2\", 10),\n",
        "    (\"Склад 1\", \"Магазин 1\", 15),\n",
        "    (\"Склад 1\", \"Магазин 2\", 10),\n",
        "    (\"Склад 1\", \"Магазин 3\", 20),\n",
        "    (\"Склад 2\", \"Магазин 4\", 15),\n",
        "    (\"Склад 2\", \"Магазин 5\", 10),\n",
        "    (\"Склад 2\", \"Магазин 6\", 25),\n",
        "    (\"Склад 3\", \"Магазин 7\", 20),\n",
        "    (\"Склад 3\", \"Магазин 8\", 15),\n",
        "    (\"Склад 3\", \"Магазин 9\", 10),\n",
        "    (\"Склад 4\", \"Магазин 10\", 20),\n",
        "    (\"Склад 4\", \"Магазин 11\", 10),\n",
        "    (\"Склад 4\", \"Магазин 12\", 15),\n",
        "    (\"Склад 4\", \"Магазин 13\", 5),\n",
        "    (\"Склад 4\", \"Магазин 14\", 10),\n",
        "]\n",
        "\n",
        "# Додаємо ребра до графа\n",
        "for u, v, capacity in edges:\n",
        "    G.add_edge(u, v, capacity=capacity)\n",
        "\n",
        "# Додаємо джерело і стік\n",
        "G.add_edge(\"Джерело\", \"Термінал 1\", capacity=float(\"inf\"))\n",
        "G.add_edge(\"Джерело\", \"Термінал 2\", capacity=float(\"inf\"))\n",
        "for i in range(1, 15):\n",
        "    G.add_edge(f\"Магазин {i}\", \"Стік\", capacity=float(\"inf\"))\n",
        "\n",
        "# Обчислення максимального потоку\n",
        "flow_value, flow_dict = nx.maximum_flow(G, \"Джерело\", \"Стік\")\n",
        "\n",
        "# Вивід результату\n",
        "print(\"Загальний максимальний потік:\", flow_value)\n",
        "print(\"\\nФактичні потоки від терміналів до магазинів:\")\n",
        "for terminal in [\"Термінал 1\", \"Термінал 2\"]:\n",
        "    for warehouse, warehouse_flow in flow_dict[terminal].items():\n",
        "        for shop, shop_flow in flow_dict.get(warehouse, {}).items():\n",
        "            if shop.startswith(\"Магазин\") and shop_flow > 0:\n",
        "                print(f\"{terminal} → {shop}: {shop_flow}\")\n"
      ]
    },
    {
      "cell_type": "code",
      "source": [
        "import pandas as pd\n",
        "\n",
        "# Сформуємо список результатів із потоку\n",
        "rows = []\n",
        "for terminal in [\"Термінал 1\", \"Термінал 2\"]:\n",
        "    for warehouse, warehouse_flow in flow_dict[terminal].items():\n",
        "        for shop, shop_flow in flow_dict.get(warehouse, {}).items():\n",
        "            if shop.startswith(\"Магазин\") and shop_flow > 0:\n",
        "                rows.append({\n",
        "                    \"Термінал\": terminal,\n",
        "                    \"Магазин\": shop,\n",
        "                    \"Фактичний Потік (одиниць)\": shop_flow\n",
        "                })\n",
        "\n",
        "# Побудова таблиці\n",
        "df = pd.DataFrame(rows)\n",
        "df = df.sort_values(by=[\"Термінал\", \"Магазин\"])\n",
        "df.reset_index(drop=True, inplace=True)\n",
        "\n",
        "# Виведення\n",
        "df.style.set_caption(\"Таблиця фактичних потоків від терміналів до магазинів\")\n"
      ],
      "metadata": {
        "colab": {
          "base_uri": "https://localhost:8080/",
          "height": 505
        },
        "id": "6cq102D2bHfW",
        "outputId": "4a0a07f3-3588-487f-f7b8-d903da78a167"
      },
      "execution_count": 2,
      "outputs": [
        {
          "output_type": "execute_result",
          "data": {
            "text/plain": [
              "<pandas.io.formats.style.Styler at 0x7a79beab8490>"
            ],
            "text/html": [
              "<style type=\"text/css\">\n",
              "</style>\n",
              "<table id=\"T_4088b\" class=\"dataframe\">\n",
              "  <caption>Таблиця фактичних потоків від терміналів до магазинів</caption>\n",
              "  <thead>\n",
              "    <tr>\n",
              "      <th class=\"blank level0\" >&nbsp;</th>\n",
              "      <th id=\"T_4088b_level0_col0\" class=\"col_heading level0 col0\" >Термінал</th>\n",
              "      <th id=\"T_4088b_level0_col1\" class=\"col_heading level0 col1\" >Магазин</th>\n",
              "      <th id=\"T_4088b_level0_col2\" class=\"col_heading level0 col2\" >Фактичний Потік (одиниць)</th>\n",
              "    </tr>\n",
              "  </thead>\n",
              "  <tbody>\n",
              "    <tr>\n",
              "      <th id=\"T_4088b_level0_row0\" class=\"row_heading level0 row0\" >0</th>\n",
              "      <td id=\"T_4088b_row0_col0\" class=\"data row0 col0\" >Термінал 1</td>\n",
              "      <td id=\"T_4088b_row0_col1\" class=\"data row0 col1\" >Магазин 1</td>\n",
              "      <td id=\"T_4088b_row0_col2\" class=\"data row0 col2\" >15</td>\n",
              "    </tr>\n",
              "    <tr>\n",
              "      <th id=\"T_4088b_level0_row1\" class=\"row_heading level0 row1\" >1</th>\n",
              "      <td id=\"T_4088b_row1_col0\" class=\"data row1 col0\" >Термінал 1</td>\n",
              "      <td id=\"T_4088b_row1_col1\" class=\"data row1 col1\" >Магазин 2</td>\n",
              "      <td id=\"T_4088b_row1_col2\" class=\"data row1 col2\" >10</td>\n",
              "    </tr>\n",
              "    <tr>\n",
              "      <th id=\"T_4088b_level0_row2\" class=\"row_heading level0 row2\" >2</th>\n",
              "      <td id=\"T_4088b_row2_col0\" class=\"data row2 col0\" >Термінал 1</td>\n",
              "      <td id=\"T_4088b_row2_col1\" class=\"data row2 col1\" >Магазин 4</td>\n",
              "      <td id=\"T_4088b_row2_col2\" class=\"data row2 col2\" >15</td>\n",
              "    </tr>\n",
              "    <tr>\n",
              "      <th id=\"T_4088b_level0_row3\" class=\"row_heading level0 row3\" >3</th>\n",
              "      <td id=\"T_4088b_row3_col0\" class=\"data row3 col0\" >Термінал 1</td>\n",
              "      <td id=\"T_4088b_row3_col1\" class=\"data row3 col1\" >Магазин 5</td>\n",
              "      <td id=\"T_4088b_row3_col2\" class=\"data row3 col2\" >10</td>\n",
              "    </tr>\n",
              "    <tr>\n",
              "      <th id=\"T_4088b_level0_row4\" class=\"row_heading level0 row4\" >4</th>\n",
              "      <td id=\"T_4088b_row4_col0\" class=\"data row4 col0\" >Термінал 1</td>\n",
              "      <td id=\"T_4088b_row4_col1\" class=\"data row4 col1\" >Магазин 6</td>\n",
              "      <td id=\"T_4088b_row4_col2\" class=\"data row4 col2\" >5</td>\n",
              "    </tr>\n",
              "    <tr>\n",
              "      <th id=\"T_4088b_level0_row5\" class=\"row_heading level0 row5\" >5</th>\n",
              "      <td id=\"T_4088b_row5_col0\" class=\"data row5 col0\" >Термінал 1</td>\n",
              "      <td id=\"T_4088b_row5_col1\" class=\"data row5 col1\" >Магазин 7</td>\n",
              "      <td id=\"T_4088b_row5_col2\" class=\"data row5 col2\" >20</td>\n",
              "    </tr>\n",
              "    <tr>\n",
              "      <th id=\"T_4088b_level0_row6\" class=\"row_heading level0 row6\" >6</th>\n",
              "      <td id=\"T_4088b_row6_col0\" class=\"data row6 col0\" >Термінал 1</td>\n",
              "      <td id=\"T_4088b_row6_col1\" class=\"data row6 col1\" >Магазин 8</td>\n",
              "      <td id=\"T_4088b_row6_col2\" class=\"data row6 col2\" >10</td>\n",
              "    </tr>\n",
              "    <tr>\n",
              "      <th id=\"T_4088b_level0_row7\" class=\"row_heading level0 row7\" >7</th>\n",
              "      <td id=\"T_4088b_row7_col0\" class=\"data row7 col0\" >Термінал 2</td>\n",
              "      <td id=\"T_4088b_row7_col1\" class=\"data row7 col1\" >Магазин 10</td>\n",
              "      <td id=\"T_4088b_row7_col2\" class=\"data row7 col2\" >20</td>\n",
              "    </tr>\n",
              "    <tr>\n",
              "      <th id=\"T_4088b_level0_row8\" class=\"row_heading level0 row8\" >8</th>\n",
              "      <td id=\"T_4088b_row8_col0\" class=\"data row8 col0\" >Термінал 2</td>\n",
              "      <td id=\"T_4088b_row8_col1\" class=\"data row8 col1\" >Магазин 11</td>\n",
              "      <td id=\"T_4088b_row8_col2\" class=\"data row8 col2\" >10</td>\n",
              "    </tr>\n",
              "    <tr>\n",
              "      <th id=\"T_4088b_level0_row9\" class=\"row_heading level0 row9\" >9</th>\n",
              "      <td id=\"T_4088b_row9_col0\" class=\"data row9 col0\" >Термінал 2</td>\n",
              "      <td id=\"T_4088b_row9_col1\" class=\"data row9 col1\" >Магазин 4</td>\n",
              "      <td id=\"T_4088b_row9_col2\" class=\"data row9 col2\" >15</td>\n",
              "    </tr>\n",
              "    <tr>\n",
              "      <th id=\"T_4088b_level0_row10\" class=\"row_heading level0 row10\" >10</th>\n",
              "      <td id=\"T_4088b_row10_col0\" class=\"data row10 col0\" >Термінал 2</td>\n",
              "      <td id=\"T_4088b_row10_col1\" class=\"data row10 col1\" >Магазин 5</td>\n",
              "      <td id=\"T_4088b_row10_col2\" class=\"data row10 col2\" >10</td>\n",
              "    </tr>\n",
              "    <tr>\n",
              "      <th id=\"T_4088b_level0_row11\" class=\"row_heading level0 row11\" >11</th>\n",
              "      <td id=\"T_4088b_row11_col0\" class=\"data row11 col0\" >Термінал 2</td>\n",
              "      <td id=\"T_4088b_row11_col1\" class=\"data row11 col1\" >Магазин 6</td>\n",
              "      <td id=\"T_4088b_row11_col2\" class=\"data row11 col2\" >5</td>\n",
              "    </tr>\n",
              "    <tr>\n",
              "      <th id=\"T_4088b_level0_row12\" class=\"row_heading level0 row12\" >12</th>\n",
              "      <td id=\"T_4088b_row12_col0\" class=\"data row12 col0\" >Термінал 2</td>\n",
              "      <td id=\"T_4088b_row12_col1\" class=\"data row12 col1\" >Магазин 7</td>\n",
              "      <td id=\"T_4088b_row12_col2\" class=\"data row12 col2\" >20</td>\n",
              "    </tr>\n",
              "    <tr>\n",
              "      <th id=\"T_4088b_level0_row13\" class=\"row_heading level0 row13\" >13</th>\n",
              "      <td id=\"T_4088b_row13_col0\" class=\"data row13 col0\" >Термінал 2</td>\n",
              "      <td id=\"T_4088b_row13_col1\" class=\"data row13 col1\" >Магазин 8</td>\n",
              "      <td id=\"T_4088b_row13_col2\" class=\"data row13 col2\" >10</td>\n",
              "    </tr>\n",
              "  </tbody>\n",
              "</table>\n"
            ]
          },
          "metadata": {},
          "execution_count": 2
        }
      ]
    },
    {
      "cell_type": "markdown",
      "source": [
        "Запитання 1. Які термінали забезпечують найбільший потік товарів?"
      ],
      "metadata": {
        "id": "YY08hLdidAbz"
      }
    },
    {
      "cell_type": "code",
      "source": [
        "# Підрахунок сумарного потоку з кожного термінала\n",
        "from collections import defaultdict\n",
        "\n",
        "terminal_flow_total = defaultdict(int)\n",
        "\n",
        "for terminal in [\"Термінал 1\", \"Термінал 2\"]:\n",
        "    for warehouse, w_flow in flow_dict[terminal].items():\n",
        "        for shop, flow in flow_dict.get(warehouse, {}).items():\n",
        "            if shop.startswith(\"Магазин\"):\n",
        "                terminal_flow_total[terminal] += flow\n",
        "\n",
        "# Виведення результату\n",
        "for terminal, total in terminal_flow_total.items():\n",
        "    print(f\"{terminal}: {total} одиниць\")\n",
        "\n",
        "max_terminal = max(terminal_flow_total, key=terminal_flow_total.get)\n",
        "print(f\"\\n🔹 Найбільший потік забезпечує: {max_terminal}\")\n"
      ],
      "metadata": {
        "colab": {
          "base_uri": "https://localhost:8080/"
        },
        "id": "MVy1vXq4cgSC",
        "outputId": "c7f77103-ac02-4293-847a-df914cbe5725"
      },
      "execution_count": 3,
      "outputs": [
        {
          "output_type": "stream",
          "name": "stdout",
          "text": [
            "Термінал 1: 85 одиниць\n",
            "Термінал 2: 90 одиниць\n",
            "\n",
            "🔹 Найбільший потік забезпечує: Термінал 2\n"
          ]
        }
      ]
    },
    {
      "cell_type": "markdown",
      "source": [
        "Запитання 2. Які маршрути мають найменшу пропускну здатність?"
      ],
      "metadata": {
        "id": "CLNbMBKEdLne"
      }
    },
    {
      "cell_type": "code",
      "source": [
        "# Пошук ребер з найменшою пропускною здатністю\n",
        "min_capacity = float('inf')\n",
        "min_capacity_edges = []\n",
        "\n",
        "for u, v, data in G.edges(data=True):\n",
        "    cap = data.get(\"capacity\", float('inf'))\n",
        "    if cap != float('inf'):\n",
        "        if cap < min_capacity:\n",
        "            min_capacity = cap\n",
        "            min_capacity_edges = [(u, v)]\n",
        "        elif cap == min_capacity:\n",
        "            min_capacity_edges.append((u, v))\n",
        "\n",
        "print(f\"Мінімальна пропускна здатність: {min_capacity} одиниць\")\n",
        "print(\"Маршрути з такою пропускною здатністю:\")\n",
        "for u, v in min_capacity_edges:\n",
        "    print(f\"➡️ {u} → {v}\")\n"
      ],
      "metadata": {
        "colab": {
          "base_uri": "https://localhost:8080/"
        },
        "id": "LPYxXaMidDcl",
        "outputId": "50d1fbb0-fb3d-4411-8ccb-33917ec85c1c"
      },
      "execution_count": 4,
      "outputs": [
        {
          "output_type": "stream",
          "name": "stdout",
          "text": [
            "Мінімальна пропускна здатність: 5 одиниць\n",
            "Маршрути з такою пропускною здатністю:\n",
            "➡️ Склад 4 → Магазин 13\n"
          ]
        }
      ]
    },
    {
      "cell_type": "markdown",
      "source": [
        "Запитання 3. Які магазини отримали найменше товарів?"
      ],
      "metadata": {
        "id": "jJlQFzvudTnc"
      }
    },
    {
      "cell_type": "code",
      "source": [
        "# Сумарний потік до кожного магазину\n",
        "shop_flow = defaultdict(int)\n",
        "\n",
        "for terminal in [\"Термінал 1\", \"Термінал 2\"]:\n",
        "    for warehouse in flow_dict[terminal]:\n",
        "        for shop, flow in flow_dict.get(warehouse, {}).items():\n",
        "            if shop.startswith(\"Магазин\"):\n",
        "                shop_flow[shop] += flow\n",
        "\n",
        "# Виведемо топ 5 магазинів з найменшим потоком\n",
        "sorted_shops = sorted(shop_flow.items(), key=lambda x: x[1])\n",
        "print(\"🏬 Магазини, що отримали найменше товарів:\")\n",
        "for shop, value in sorted_shops[:5]:\n",
        "    print(f\"{shop}: {value} одиниць\")\n"
      ],
      "metadata": {
        "colab": {
          "base_uri": "https://localhost:8080/"
        },
        "id": "6qlAACkodO0u",
        "outputId": "61157c9d-a1aa-417b-c8f3-9ac5f013a79b"
      },
      "execution_count": 5,
      "outputs": [
        {
          "output_type": "stream",
          "name": "stdout",
          "text": [
            "🏬 Магазини, що отримали найменше товарів:\n",
            "Магазин 3: 0 одиниць\n",
            "Магазин 9: 0 одиниць\n",
            "Магазин 12: 0 одиниць\n",
            "Магазин 13: 0 одиниць\n",
            "Магазин 14: 0 одиниць\n"
          ]
        }
      ]
    },
    {
      "cell_type": "markdown",
      "source": [
        "Запитання 4. Чи є вузькі місця, які можна усунути?"
      ],
      "metadata": {
        "id": "e_S9at5edbQY"
      }
    },
    {
      "cell_type": "code",
      "source": [
        "# Вузькі місця = маршрути з найменшою пропускною здатністю та нульовим або малим потоком\n",
        "narrow_spots = []\n",
        "\n",
        "for u, v, data in G.edges(data=True):\n",
        "    cap = data.get(\"capacity\", float('inf'))\n",
        "    flow = flow_dict.get(u, {}).get(v, 0)\n",
        "    if cap != float('inf') and flow < cap // 2:\n",
        "        narrow_spots.append((u, v, flow, cap))\n",
        "\n",
        "print(\"🚧 Потенційні вузькі місця:\")\n",
        "for u, v, flow, cap in narrow_spots:\n",
        "    print(f\"{u} → {v}: потік {flow} з {cap} (використано {flow / cap:.0%})\")\n"
      ],
      "metadata": {
        "colab": {
          "base_uri": "https://localhost:8080/"
        },
        "id": "wRrmP-12dWVQ",
        "outputId": "f217c46f-6ef8-4faa-8073-5ad7df66cf98"
      },
      "execution_count": 6,
      "outputs": [
        {
          "output_type": "stream",
          "name": "stdout",
          "text": [
            "🚧 Потенційні вузькі місця:\n",
            "Склад 1 → Магазин 3: потік 0 з 20 (використано 0%)\n",
            "Склад 2 → Магазин 6: потік 5 з 25 (використано 20%)\n",
            "Склад 3 → Магазин 9: потік 0 з 10 (використано 0%)\n",
            "Склад 4 → Магазин 12: потік 0 з 15 (використано 0%)\n",
            "Склад 4 → Магазин 13: потік 0 з 5 (використано 0%)\n",
            "Склад 4 → Магазин 14: потік 0 з 10 (використано 0%)\n"
          ]
        }
      ]
    },
    {
      "cell_type": "code",
      "source": [],
      "metadata": {
        "id": "Atw48n8eddoE"
      },
      "execution_count": null,
      "outputs": []
    }
  ]
}